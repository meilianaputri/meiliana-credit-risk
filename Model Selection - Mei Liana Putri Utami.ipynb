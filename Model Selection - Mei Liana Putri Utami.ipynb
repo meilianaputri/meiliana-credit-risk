{
 "cells": [
  {
   "cell_type": "code",
   "execution_count": 3,
   "id": "84a20e0e",
   "metadata": {},
   "outputs": [],
   "source": [
    "import numpy as np\n",
    "import pandas as pd\n",
    "import matplotlib.pyplot as plt\n",
    "import seaborn as sns\n",
    "\n",
    "from sklearn.model_selection import train_test_split, GridSearchCV\n",
    "from sklearn.linear_model import LogisticRegression\n",
    "from sklearn.ensemble import RandomForestClassifier\n",
    "from sklearn.feature_selection import SelectFromModel\n",
    "#from xgboost import XGBClassifier\n",
    "from scipy import stats\n",
    "\n",
    "import warnings\n",
    "warnings.filterwarnings('ignore')\n"
   ]
  },
  {
   "cell_type": "markdown",
   "id": "f6fe8895",
   "metadata": {},
   "source": [
    "## Import Data"
   ]
  },
  {
   "cell_type": "code",
   "execution_count": 4,
   "id": "52a9036b",
   "metadata": {},
   "outputs": [],
   "source": [
    "# Read the data into a data frame\n",
    "data = pd.read_csv(\"credit_risk_dataset.csv\")"
   ]
  },
  {
   "cell_type": "code",
   "execution_count": 99,
   "id": "0a975369",
   "metadata": {},
   "outputs": [
    {
     "name": "stdout",
     "output_type": "stream",
     "text": [
      "Number of rows: 32581\n",
      "Number of columns: 12\n"
     ]
    }
   ],
   "source": [
    "print('Number of rows:',data.shape[0])\n",
    "print('Number of columns:',data.shape[1])"
   ]
  },
  {
   "cell_type": "code",
   "execution_count": 100,
   "id": "68148e2a",
   "metadata": {},
   "outputs": [
    {
     "data": {
      "text/plain": [
       "(165, 12)"
      ]
     },
     "execution_count": 100,
     "metadata": {},
     "output_type": "execute_result"
    }
   ],
   "source": [
    "data[data.duplicated()].shape #terdapat baris yang duplicate sebanyak 165 baris, agar model lebih baik, maka hapus baris duplicate tsb"
   ]
  },
  {
   "cell_type": "code",
   "execution_count": 101,
   "id": "b787f4e1",
   "metadata": {},
   "outputs": [],
   "source": [
    "data = data[~data.duplicated()]"
   ]
  },
  {
   "cell_type": "code",
   "execution_count": 102,
   "id": "77233f03",
   "metadata": {},
   "outputs": [
    {
     "name": "stdout",
     "output_type": "stream",
     "text": [
      "Number of rows after deleting duplicate rows: 32416\n",
      "Number of columns after deleting duplicate rows: 12\n"
     ]
    }
   ],
   "source": [
    "print('Number of rows after deleting duplicate rows:',data.shape[0])\n",
    "print('Number of columns after deleting duplicate rows:',data.shape[1])"
   ]
  },
  {
   "cell_type": "code",
   "execution_count": 103,
   "id": "0b24e76b",
   "metadata": {},
   "outputs": [
    {
     "data": {
      "text/html": [
       "<div>\n",
       "<style scoped>\n",
       "    .dataframe tbody tr th:only-of-type {\n",
       "        vertical-align: middle;\n",
       "    }\n",
       "\n",
       "    .dataframe tbody tr th {\n",
       "        vertical-align: top;\n",
       "    }\n",
       "\n",
       "    .dataframe thead th {\n",
       "        text-align: right;\n",
       "    }\n",
       "</style>\n",
       "<table border=\"1\" class=\"dataframe\">\n",
       "  <thead>\n",
       "    <tr style=\"text-align: right;\">\n",
       "      <th></th>\n",
       "      <th>person_age</th>\n",
       "      <th>person_income</th>\n",
       "      <th>person_home_ownership</th>\n",
       "      <th>person_emp_length</th>\n",
       "      <th>loan_intent</th>\n",
       "      <th>loan_grade</th>\n",
       "      <th>loan_amnt</th>\n",
       "      <th>loan_int_rate</th>\n",
       "      <th>loan_status</th>\n",
       "      <th>loan_percent_income</th>\n",
       "      <th>cb_person_default_on_file</th>\n",
       "      <th>cb_person_cred_hist_length</th>\n",
       "    </tr>\n",
       "  </thead>\n",
       "  <tbody>\n",
       "    <tr>\n",
       "      <th>0</th>\n",
       "      <td>22</td>\n",
       "      <td>59000</td>\n",
       "      <td>RENT</td>\n",
       "      <td>123.0</td>\n",
       "      <td>PERSONAL</td>\n",
       "      <td>D</td>\n",
       "      <td>35000</td>\n",
       "      <td>16.02</td>\n",
       "      <td>1</td>\n",
       "      <td>0.59</td>\n",
       "      <td>Y</td>\n",
       "      <td>3</td>\n",
       "    </tr>\n",
       "    <tr>\n",
       "      <th>1</th>\n",
       "      <td>21</td>\n",
       "      <td>9600</td>\n",
       "      <td>OWN</td>\n",
       "      <td>5.0</td>\n",
       "      <td>EDUCATION</td>\n",
       "      <td>B</td>\n",
       "      <td>1000</td>\n",
       "      <td>11.14</td>\n",
       "      <td>0</td>\n",
       "      <td>0.10</td>\n",
       "      <td>N</td>\n",
       "      <td>2</td>\n",
       "    </tr>\n",
       "    <tr>\n",
       "      <th>2</th>\n",
       "      <td>25</td>\n",
       "      <td>9600</td>\n",
       "      <td>MORTGAGE</td>\n",
       "      <td>1.0</td>\n",
       "      <td>MEDICAL</td>\n",
       "      <td>C</td>\n",
       "      <td>5500</td>\n",
       "      <td>12.87</td>\n",
       "      <td>1</td>\n",
       "      <td>0.57</td>\n",
       "      <td>N</td>\n",
       "      <td>3</td>\n",
       "    </tr>\n",
       "    <tr>\n",
       "      <th>3</th>\n",
       "      <td>23</td>\n",
       "      <td>65500</td>\n",
       "      <td>RENT</td>\n",
       "      <td>4.0</td>\n",
       "      <td>MEDICAL</td>\n",
       "      <td>C</td>\n",
       "      <td>35000</td>\n",
       "      <td>15.23</td>\n",
       "      <td>1</td>\n",
       "      <td>0.53</td>\n",
       "      <td>N</td>\n",
       "      <td>2</td>\n",
       "    </tr>\n",
       "    <tr>\n",
       "      <th>4</th>\n",
       "      <td>24</td>\n",
       "      <td>54400</td>\n",
       "      <td>RENT</td>\n",
       "      <td>8.0</td>\n",
       "      <td>MEDICAL</td>\n",
       "      <td>C</td>\n",
       "      <td>35000</td>\n",
       "      <td>14.27</td>\n",
       "      <td>1</td>\n",
       "      <td>0.55</td>\n",
       "      <td>Y</td>\n",
       "      <td>4</td>\n",
       "    </tr>\n",
       "  </tbody>\n",
       "</table>\n",
       "</div>"
      ],
      "text/plain": [
       "   person_age  person_income person_home_ownership  person_emp_length  \\\n",
       "0          22          59000                  RENT              123.0   \n",
       "1          21           9600                   OWN                5.0   \n",
       "2          25           9600              MORTGAGE                1.0   \n",
       "3          23          65500                  RENT                4.0   \n",
       "4          24          54400                  RENT                8.0   \n",
       "\n",
       "  loan_intent loan_grade  loan_amnt  loan_int_rate  loan_status  \\\n",
       "0    PERSONAL          D      35000          16.02            1   \n",
       "1   EDUCATION          B       1000          11.14            0   \n",
       "2     MEDICAL          C       5500          12.87            1   \n",
       "3     MEDICAL          C      35000          15.23            1   \n",
       "4     MEDICAL          C      35000          14.27            1   \n",
       "\n",
       "   loan_percent_income cb_person_default_on_file  cb_person_cred_hist_length  \n",
       "0                 0.59                         Y                           3  \n",
       "1                 0.10                         N                           2  \n",
       "2                 0.57                         N                           3  \n",
       "3                 0.53                         N                           2  \n",
       "4                 0.55                         Y                           4  "
      ]
     },
     "execution_count": 103,
     "metadata": {},
     "output_type": "execute_result"
    }
   ],
   "source": [
    "data.head()"
   ]
  },
  {
   "cell_type": "code",
   "execution_count": 5,
   "id": "945237c3",
   "metadata": {},
   "outputs": [
    {
     "data": {
      "text/plain": [
       "array(['RENT', 'OWN', 'MORTGAGE', 'OTHER'], dtype=object)"
      ]
     },
     "execution_count": 5,
     "metadata": {},
     "output_type": "execute_result"
    }
   ],
   "source": [
    "data['person_home_ownership'].unique()"
   ]
  },
  {
   "cell_type": "code",
   "execution_count": 6,
   "id": "7d49d1a8",
   "metadata": {},
   "outputs": [
    {
     "data": {
      "text/plain": [
       "array(['PERSONAL', 'EDUCATION', 'MEDICAL', 'VENTURE', 'HOMEIMPROVEMENT',\n",
       "       'DEBTCONSOLIDATION'], dtype=object)"
      ]
     },
     "execution_count": 6,
     "metadata": {},
     "output_type": "execute_result"
    }
   ],
   "source": [
    "data['loan_intent'].unique()"
   ]
  },
  {
   "cell_type": "code",
   "execution_count": 7,
   "id": "0022ca62",
   "metadata": {},
   "outputs": [
    {
     "data": {
      "text/plain": [
       "array(['D', 'B', 'C', 'A', 'E', 'F', 'G'], dtype=object)"
      ]
     },
     "execution_count": 7,
     "metadata": {},
     "output_type": "execute_result"
    }
   ],
   "source": [
    "data['loan_grade'].unique()"
   ]
  },
  {
   "cell_type": "markdown",
   "id": "f898e570",
   "metadata": {},
   "source": [
    "## Data Exploration "
   ]
  },
  {
   "cell_type": "code",
   "execution_count": 104,
   "id": "2256f7c7",
   "metadata": {},
   "outputs": [
    {
     "name": "stdout",
     "output_type": "stream",
     "text": [
      "<class 'pandas.core.frame.DataFrame'>\n",
      "Int64Index: 32416 entries, 0 to 32580\n",
      "Data columns (total 12 columns):\n",
      " #   Column                      Non-Null Count  Dtype  \n",
      "---  ------                      --------------  -----  \n",
      " 0   person_age                  32416 non-null  int64  \n",
      " 1   person_income               32416 non-null  int64  \n",
      " 2   person_home_ownership       32416 non-null  object \n",
      " 3   person_emp_length           31529 non-null  float64\n",
      " 4   loan_intent                 32416 non-null  object \n",
      " 5   loan_grade                  32416 non-null  object \n",
      " 6   loan_amnt                   32416 non-null  int64  \n",
      " 7   loan_int_rate               29321 non-null  float64\n",
      " 8   loan_status                 32416 non-null  int64  \n",
      " 9   loan_percent_income         32416 non-null  float64\n",
      " 10  cb_person_default_on_file   32416 non-null  object \n",
      " 11  cb_person_cred_hist_length  32416 non-null  int64  \n",
      "dtypes: float64(3), int64(5), object(4)\n",
      "memory usage: 3.2+ MB\n"
     ]
    }
   ],
   "source": [
    "data.info()"
   ]
  },
  {
   "cell_type": "code",
   "execution_count": 105,
   "id": "3fd7cb09",
   "metadata": {},
   "outputs": [],
   "source": [
    "y = data['loan_status'].copy()"
   ]
  },
  {
   "cell_type": "code",
   "execution_count": 106,
   "id": "ec518666",
   "metadata": {},
   "outputs": [
    {
     "name": "stdout",
     "output_type": "stream",
     "text": [
      "Total numerical columns : 8\n",
      "Total categorical columns : 4\n"
     ]
    }
   ],
   "source": [
    "num_columns = data.select_dtypes(include='number').columns.tolist()\n",
    "cat_columns = data.select_dtypes(include='object').columns.tolist()\n",
    "\n",
    "print(\"Total numerical columns :\", len(num_columns))\n",
    "print(\"Total categorical columns :\", len(cat_columns))\n"
   ]
  },
  {
   "cell_type": "code",
   "execution_count": 107,
   "id": "7c6527da",
   "metadata": {},
   "outputs": [],
   "source": [
    "del num_columns[5]"
   ]
  },
  {
   "cell_type": "code",
   "execution_count": 108,
   "id": "4f4b59ba",
   "metadata": {},
   "outputs": [
    {
     "data": {
      "text/plain": [
       "['person_age',\n",
       " 'person_income',\n",
       " 'person_emp_length',\n",
       " 'loan_amnt',\n",
       " 'loan_int_rate',\n",
       " 'loan_percent_income',\n",
       " 'cb_person_cred_hist_length']"
      ]
     },
     "execution_count": 108,
     "metadata": {},
     "output_type": "execute_result"
    }
   ],
   "source": [
    "num_columns"
   ]
  },
  {
   "cell_type": "code",
   "execution_count": 109,
   "id": "86d6a5fb",
   "metadata": {},
   "outputs": [
    {
     "data": {
      "text/plain": [
       "['person_home_ownership',\n",
       " 'loan_intent',\n",
       " 'loan_grade',\n",
       " 'cb_person_default_on_file']"
      ]
     },
     "execution_count": 109,
     "metadata": {},
     "output_type": "execute_result"
    }
   ],
   "source": [
    "cat_columns"
   ]
  },
  {
   "cell_type": "code",
   "execution_count": 110,
   "id": "91ac28a1",
   "metadata": {},
   "outputs": [],
   "source": [
    "num_idx = [data.columns.get_loc(c) for c in num_columns]\n",
    "cat_idx = [data.columns.get_loc(c) for c in cat_columns]\n"
   ]
  },
  {
   "cell_type": "code",
   "execution_count": 111,
   "id": "1f3fb224",
   "metadata": {},
   "outputs": [
    {
     "data": {
      "text/plain": [
       "Index(['person_age', 'person_income', 'person_emp_length', 'loan_amnt',\n",
       "       'loan_int_rate', 'loan_percent_income', 'cb_person_cred_hist_length'],\n",
       "      dtype='object')"
      ]
     },
     "execution_count": 111,
     "metadata": {},
     "output_type": "execute_result"
    }
   ],
   "source": [
    "data.columns[num_idx]"
   ]
  },
  {
   "cell_type": "code",
   "execution_count": 112,
   "id": "6d03fe1d",
   "metadata": {},
   "outputs": [
    {
     "data": {
      "text/plain": [
       "Index(['person_home_ownership', 'loan_intent', 'loan_grade',\n",
       "       'cb_person_default_on_file'],\n",
       "      dtype='object')"
      ]
     },
     "execution_count": 112,
     "metadata": {},
     "output_type": "execute_result"
    }
   ],
   "source": [
    "data.columns[cat_idx]"
   ]
  },
  {
   "cell_type": "markdown",
   "id": "9f446bde",
   "metadata": {},
   "source": [
    "### Simple Statistics"
   ]
  },
  {
   "cell_type": "code",
   "execution_count": 113,
   "id": "20e53e06",
   "metadata": {},
   "outputs": [
    {
     "data": {
      "text/html": [
       "<div>\n",
       "<style scoped>\n",
       "    .dataframe tbody tr th:only-of-type {\n",
       "        vertical-align: middle;\n",
       "    }\n",
       "\n",
       "    .dataframe tbody tr th {\n",
       "        vertical-align: top;\n",
       "    }\n",
       "\n",
       "    .dataframe thead th {\n",
       "        text-align: right;\n",
       "    }\n",
       "</style>\n",
       "<table border=\"1\" class=\"dataframe\">\n",
       "  <thead>\n",
       "    <tr style=\"text-align: right;\">\n",
       "      <th></th>\n",
       "      <th>count</th>\n",
       "      <th>mean</th>\n",
       "      <th>std</th>\n",
       "      <th>min</th>\n",
       "      <th>25%</th>\n",
       "      <th>50%</th>\n",
       "      <th>75%</th>\n",
       "      <th>max</th>\n",
       "    </tr>\n",
       "  </thead>\n",
       "  <tbody>\n",
       "    <tr>\n",
       "      <th>person_age</th>\n",
       "      <td>32416.0</td>\n",
       "      <td>27.747008</td>\n",
       "      <td>6.354100</td>\n",
       "      <td>20.00</td>\n",
       "      <td>23.00</td>\n",
       "      <td>26.00</td>\n",
       "      <td>30.00</td>\n",
       "      <td>144.00</td>\n",
       "    </tr>\n",
       "    <tr>\n",
       "      <th>person_income</th>\n",
       "      <td>32416.0</td>\n",
       "      <td>66091.640826</td>\n",
       "      <td>62015.580269</td>\n",
       "      <td>4000.00</td>\n",
       "      <td>38542.00</td>\n",
       "      <td>55000.00</td>\n",
       "      <td>79218.00</td>\n",
       "      <td>6000000.00</td>\n",
       "    </tr>\n",
       "    <tr>\n",
       "      <th>person_emp_length</th>\n",
       "      <td>31529.0</td>\n",
       "      <td>4.790510</td>\n",
       "      <td>4.145490</td>\n",
       "      <td>0.00</td>\n",
       "      <td>2.00</td>\n",
       "      <td>4.00</td>\n",
       "      <td>7.00</td>\n",
       "      <td>123.00</td>\n",
       "    </tr>\n",
       "    <tr>\n",
       "      <th>loan_amnt</th>\n",
       "      <td>32416.0</td>\n",
       "      <td>9593.845632</td>\n",
       "      <td>6322.730241</td>\n",
       "      <td>500.00</td>\n",
       "      <td>5000.00</td>\n",
       "      <td>8000.00</td>\n",
       "      <td>12250.00</td>\n",
       "      <td>35000.00</td>\n",
       "    </tr>\n",
       "    <tr>\n",
       "      <th>loan_int_rate</th>\n",
       "      <td>29321.0</td>\n",
       "      <td>11.017265</td>\n",
       "      <td>3.241680</td>\n",
       "      <td>5.42</td>\n",
       "      <td>7.90</td>\n",
       "      <td>10.99</td>\n",
       "      <td>13.47</td>\n",
       "      <td>23.22</td>\n",
       "    </tr>\n",
       "    <tr>\n",
       "      <th>loan_status</th>\n",
       "      <td>32416.0</td>\n",
       "      <td>0.218688</td>\n",
       "      <td>0.413363</td>\n",
       "      <td>0.00</td>\n",
       "      <td>0.00</td>\n",
       "      <td>0.00</td>\n",
       "      <td>0.00</td>\n",
       "      <td>1.00</td>\n",
       "    </tr>\n",
       "    <tr>\n",
       "      <th>loan_percent_income</th>\n",
       "      <td>32416.0</td>\n",
       "      <td>0.170250</td>\n",
       "      <td>0.106812</td>\n",
       "      <td>0.00</td>\n",
       "      <td>0.09</td>\n",
       "      <td>0.15</td>\n",
       "      <td>0.23</td>\n",
       "      <td>0.83</td>\n",
       "    </tr>\n",
       "    <tr>\n",
       "      <th>cb_person_cred_hist_length</th>\n",
       "      <td>32416.0</td>\n",
       "      <td>5.811297</td>\n",
       "      <td>4.059030</td>\n",
       "      <td>2.00</td>\n",
       "      <td>3.00</td>\n",
       "      <td>4.00</td>\n",
       "      <td>8.00</td>\n",
       "      <td>30.00</td>\n",
       "    </tr>\n",
       "  </tbody>\n",
       "</table>\n",
       "</div>"
      ],
      "text/plain": [
       "                              count          mean           std      min  \\\n",
       "person_age                  32416.0     27.747008      6.354100    20.00   \n",
       "person_income               32416.0  66091.640826  62015.580269  4000.00   \n",
       "person_emp_length           31529.0      4.790510      4.145490     0.00   \n",
       "loan_amnt                   32416.0   9593.845632   6322.730241   500.00   \n",
       "loan_int_rate               29321.0     11.017265      3.241680     5.42   \n",
       "loan_status                 32416.0      0.218688      0.413363     0.00   \n",
       "loan_percent_income         32416.0      0.170250      0.106812     0.00   \n",
       "cb_person_cred_hist_length  32416.0      5.811297      4.059030     2.00   \n",
       "\n",
       "                                 25%       50%       75%         max  \n",
       "person_age                     23.00     26.00     30.00      144.00  \n",
       "person_income               38542.00  55000.00  79218.00  6000000.00  \n",
       "person_emp_length               2.00      4.00      7.00      123.00  \n",
       "loan_amnt                    5000.00   8000.00  12250.00    35000.00  \n",
       "loan_int_rate                   7.90     10.99     13.47       23.22  \n",
       "loan_status                     0.00      0.00      0.00        1.00  \n",
       "loan_percent_income             0.09      0.15      0.23        0.83  \n",
       "cb_person_cred_hist_length      3.00      4.00      8.00       30.00  "
      ]
     },
     "execution_count": 113,
     "metadata": {},
     "output_type": "execute_result"
    }
   ],
   "source": [
    "data.describe(include='number').T"
   ]
  },
  {
   "cell_type": "code",
   "execution_count": 114,
   "id": "022d1bb9",
   "metadata": {},
   "outputs": [
    {
     "data": {
      "text/html": [
       "<div>\n",
       "<style scoped>\n",
       "    .dataframe tbody tr th:only-of-type {\n",
       "        vertical-align: middle;\n",
       "    }\n",
       "\n",
       "    .dataframe tbody tr th {\n",
       "        vertical-align: top;\n",
       "    }\n",
       "\n",
       "    .dataframe thead th {\n",
       "        text-align: right;\n",
       "    }\n",
       "</style>\n",
       "<table border=\"1\" class=\"dataframe\">\n",
       "  <thead>\n",
       "    <tr style=\"text-align: right;\">\n",
       "      <th></th>\n",
       "      <th>count</th>\n",
       "      <th>unique</th>\n",
       "      <th>top</th>\n",
       "      <th>freq</th>\n",
       "    </tr>\n",
       "  </thead>\n",
       "  <tbody>\n",
       "    <tr>\n",
       "      <th>person_home_ownership</th>\n",
       "      <td>32416</td>\n",
       "      <td>4</td>\n",
       "      <td>RENT</td>\n",
       "      <td>16378</td>\n",
       "    </tr>\n",
       "    <tr>\n",
       "      <th>loan_intent</th>\n",
       "      <td>32416</td>\n",
       "      <td>6</td>\n",
       "      <td>EDUCATION</td>\n",
       "      <td>6411</td>\n",
       "    </tr>\n",
       "    <tr>\n",
       "      <th>loan_grade</th>\n",
       "      <td>32416</td>\n",
       "      <td>7</td>\n",
       "      <td>A</td>\n",
       "      <td>10703</td>\n",
       "    </tr>\n",
       "    <tr>\n",
       "      <th>cb_person_default_on_file</th>\n",
       "      <td>32416</td>\n",
       "      <td>2</td>\n",
       "      <td>N</td>\n",
       "      <td>26686</td>\n",
       "    </tr>\n",
       "  </tbody>\n",
       "</table>\n",
       "</div>"
      ],
      "text/plain": [
       "                           count unique        top   freq\n",
       "person_home_ownership      32416      4       RENT  16378\n",
       "loan_intent                32416      6  EDUCATION   6411\n",
       "loan_grade                 32416      7          A  10703\n",
       "cb_person_default_on_file  32416      2          N  26686"
      ]
     },
     "execution_count": 114,
     "metadata": {},
     "output_type": "execute_result"
    }
   ],
   "source": [
    "data.describe(include='object').T"
   ]
  },
  {
   "cell_type": "code",
   "execution_count": 115,
   "id": "c3180396",
   "metadata": {},
   "outputs": [
    {
     "data": {
      "text/plain": [
       "0    25327\n",
       "1     7089\n",
       "Name: loan_status, dtype: int64"
      ]
     },
     "execution_count": 115,
     "metadata": {},
     "output_type": "execute_result"
    }
   ],
   "source": [
    "y.value_counts()\n",
    "\n",
    "# 0 for non default, and 1 for default"
   ]
  },
  {
   "cell_type": "markdown",
   "id": "69afe31a",
   "metadata": {},
   "source": [
    "###  Check missing values"
   ]
  },
  {
   "cell_type": "code",
   "execution_count": 116,
   "id": "6248e1fe",
   "metadata": {},
   "outputs": [
    {
     "data": {
      "text/plain": [
       "person_age                       0\n",
       "person_income                    0\n",
       "person_home_ownership            0\n",
       "person_emp_length              887\n",
       "loan_intent                      0\n",
       "loan_grade                       0\n",
       "loan_amnt                        0\n",
       "loan_int_rate                 3095\n",
       "loan_status                      0\n",
       "loan_percent_income              0\n",
       "cb_person_default_on_file        0\n",
       "cb_person_cred_hist_length       0\n",
       "dtype: int64"
      ]
     },
     "execution_count": 116,
     "metadata": {},
     "output_type": "execute_result"
    }
   ],
   "source": [
    "data.isnull().sum()"
   ]
  },
  {
   "cell_type": "markdown",
   "id": "18e60aec",
   "metadata": {},
   "source": [
    "There are columns with missing value, person_emp_length and loan_int_rate. Person_emp_length is employment length (in  years), and the minimum value is 0, so if there is missing value in this column, it literally means missing value. Maybe because of no observation. Loan_int_rate is interest rate, i think, value in this column should not be empty (every loan has interest rate), so it literally means missing value, maybe because of no observation."
   ]
  },
  {
   "cell_type": "markdown",
   "id": "88b67612",
   "metadata": {},
   "source": [
    "Dipilih metode woe untuk handling missing value, karena apabila row dengan missing value kita hapus, nanti akan terjadi eror ketika input data pada development. Woe ini akan dilakukan juga saat development."
   ]
  },
  {
   "cell_type": "markdown",
   "id": "2cbbdffc",
   "metadata": {},
   "source": [
    "### Check outlier"
   ]
  },
  {
   "cell_type": "code",
   "execution_count": 117,
   "id": "a9fbfcf2",
   "metadata": {},
   "outputs": [
    {
     "data": {
      "image/png": "[encoded data removed]",
      "text/plain": [
       "<Figure size 432x288 with 1 Axes>"
      ]
     },
     "metadata": {
      "needs_background": "light"
     },
     "output_type": "display_data"
    },
    {
     "data": {
      "image/png": "[encoded data removed]",
      "text/plain": [
       "<Figure size 432x288 with 1 Axes>"
      ]
     },
     "metadata": {
      "needs_background": "light"
     },
     "output_type": "display_data"
    },
    {
     "data": {
      "image/png": "[encoded data removed]",
      "text/plain": [
       "<Figure size 432x288 with 1 Axes>"
      ]
     },
     "metadata": {
      "needs_background": "light"
     },
     "output_type": "display_data"
    },
    {
     "data": {
      "image/png": "[encoded data removed]",
      "text/plain": [
       "<Figure size 432x288 with 1 Axes>"
      ]
     },
     "metadata": {
      "needs_background": "light"
     },
     "output_type": "display_data"
    },
    {
     "data": {
      "image/png": "[encoded data removed]",
      "text/plain": [
       "<Figure size 432x288 with 1 Axes>"
      ]
     },
     "metadata": {
      "needs_background": "light"
     },
     "output_type": "display_data"
    },
    {
     "data": {
      "image/png": "[encoded data removed]",
      "text/plain": [
       "<Figure size 432x288 with 1 Axes>"
      ]
     },
     "metadata": {
      "needs_background": "light"
     },
     "output_type": "display_data"
    },
    {
     "data": {
      "image/png": "[encoded data removed]",
      "text/plain": [
       "<Figure size 432x288 with 1 Axes>"
      ]
     },
     "metadata": {
      "needs_background": "light"
     },
     "output_type": "display_data"
    }
   ],
   "source": [
    "for i in list(range(len(num_columns))) :\n",
    "    plt.boxplot(data[num_columns[1]])\n",
    "    plt.show()"
   ]
  },
  {
   "cell_type": "markdown",
   "id": "c9ca35bf",
   "metadata": {},
   "source": [
    "Semua variabel numerik memiliki outlier. Untuk menghandle outlier tersebut, dipilih metode woe. Jadi metode woe disini digunakan untuk menghandle missing value sekaligus outliers."
   ]
  },
  {
   "cell_type": "markdown",
   "id": "f2e3cc1d",
   "metadata": {},
   "source": [
    "### Correlated features"
   ]
  },
  {
   "cell_type": "code",
   "execution_count": 118,
   "id": "10c975a5",
   "metadata": {},
   "outputs": [],
   "source": [
    "import matplotlib.pyplot as plt\n",
    "import seaborn as sns\n",
    "\n",
    "\n",
    "def plot_correlation(data):\n",
    "    corr = data.corr()\n",
    "    mask = np.triu(np.ones_like(corr, dtype=bool))\n",
    "\n",
    "    fig = plt.figure(figsize=(10, 10))\n",
    "\n",
    "    ax = sns.heatmap(\n",
    "        corr, \n",
    "        mask=mask,\n",
    "        vmin=-1, vmax=1, center=0,\n",
    "        cmap='coolwarm',\n",
    "        square=True,\n",
    "        linewidths=0.3,\n",
    "        annot=True,\n",
    "        fmt=\".2f\",\n",
    "        annot_kws={\"size\": 8},\n",
    "        cbar_kws={\"shrink\": .5}\n",
    "    )\n",
    "\n",
    "    ax.set_xticklabels(\n",
    "        ax.get_xticklabels(),\n",
    "        rotation=45,\n",
    "        horizontalalignment='right'\n",
    "    )\n",
    "\n",
    "    ax.set_title(\"Correlation\", size=14)\n",
    "\n",
    "    plt.show()"
   ]
  },
  {
   "cell_type": "code",
   "execution_count": 119,
   "id": "50cc379d",
   "metadata": {},
   "outputs": [
    {
     "data": {
      "image/png": "[encoded data removed]",
      "text/plain": [
       "<Figure size 720x720 with 2 Axes>"
      ]
     },
     "metadata": {
      "needs_background": "light"
     },
     "output_type": "display_data"
    }
   ],
   "source": [
    "plot_correlation(data[num_columns])"
   ]
  },
  {
   "cell_type": "markdown",
   "id": "3616f4f3",
   "metadata": {},
   "source": [
    "person_age and cb_person_cred_hist_length have strong correlation"
   ]
  },
  {
   "cell_type": "markdown",
   "id": "116ebe60",
   "metadata": {},
   "source": [
    "###  Data Preprocess"
   ]
  },
  {
   "cell_type": "code",
   "execution_count": 120,
   "id": "fc92d664",
   "metadata": {},
   "outputs": [],
   "source": [
    "from sklearn.preprocessing import OneHotEncoder\n",
    "\n",
    "ohe = OneHotEncoder(drop='first')\n",
    "ohe.fit(data[cat_columns])\n",
    "\n",
    "data_ohe = ohe.transform(data[cat_columns]).toarray()"
   ]
  },
  {
   "cell_type": "code",
   "execution_count": 121,
   "id": "aed89e70",
   "metadata": {},
   "outputs": [
    {
     "data": {
      "text/plain": [
       "array([[0., 0., 1., ..., 0., 0., 1.],\n",
       "       [0., 1., 0., ..., 0., 0., 0.],\n",
       "       [0., 0., 0., ..., 0., 0., 0.],\n",
       "       ...,\n",
       "       [0., 0., 1., ..., 0., 0., 0.],\n",
       "       [0., 0., 0., ..., 0., 0., 0.],\n",
       "       [0., 0., 1., ..., 0., 0., 0.]])"
      ]
     },
     "execution_count": 121,
     "metadata": {},
     "output_type": "execute_result"
    }
   ],
   "source": [
    "data_ohe"
   ]
  },
  {
   "cell_type": "code",
   "execution_count": 122,
   "id": "c83452ae",
   "metadata": {},
   "outputs": [
    {
     "data": {
      "text/plain": [
       "array(['person_home_ownership_OTHER', 'person_home_ownership_OWN',\n",
       "       'person_home_ownership_RENT', 'loan_intent_EDUCATION',\n",
       "       'loan_intent_HOMEIMPROVEMENT', 'loan_intent_MEDICAL',\n",
       "       'loan_intent_PERSONAL', 'loan_intent_VENTURE', 'loan_grade_B',\n",
       "       'loan_grade_C', 'loan_grade_D', 'loan_grade_E', 'loan_grade_F',\n",
       "       'loan_grade_G', 'cb_person_default_on_file_Y'], dtype=object)"
      ]
     },
     "execution_count": 122,
     "metadata": {},
     "output_type": "execute_result"
    }
   ],
   "source": [
    "column_name_ohe = ohe.get_feature_names(cat_columns)\n",
    "column_name_ohe"
   ]
  },
  {
   "cell_type": "code",
   "execution_count": 123,
   "id": "04ec600c",
   "metadata": {},
   "outputs": [],
   "source": [
    "data_one_hot_encode = pd.DataFrame(data_ohe, columns = column_name_ohe, index = data[cat_columns].index).astype(int)"
   ]
  },
  {
   "cell_type": "code",
   "execution_count": 124,
   "id": "0ce8936e",
   "metadata": {},
   "outputs": [
    {
     "data": {
      "text/html": [
       "<div>\n",
       "<style scoped>\n",
       "    .dataframe tbody tr th:only-of-type {\n",
       "        vertical-align: middle;\n",
       "    }\n",
       "\n",
       "    .dataframe tbody tr th {\n",
       "        vertical-align: top;\n",
       "    }\n",
       "\n",
       "    .dataframe thead th {\n",
       "        text-align: right;\n",
       "    }\n",
       "</style>\n",
       "<table border=\"1\" class=\"dataframe\">\n",
       "  <thead>\n",
       "    <tr style=\"text-align: right;\">\n",
       "      <th></th>\n",
       "      <th>person_home_ownership_OTHER</th>\n",
       "      <th>person_home_ownership_OWN</th>\n",
       "      <th>person_home_ownership_RENT</th>\n",
       "      <th>loan_intent_EDUCATION</th>\n",
       "      <th>loan_intent_HOMEIMPROVEMENT</th>\n",
       "      <th>loan_intent_MEDICAL</th>\n",
       "      <th>loan_intent_PERSONAL</th>\n",
       "      <th>loan_intent_VENTURE</th>\n",
       "      <th>loan_grade_B</th>\n",
       "      <th>loan_grade_C</th>\n",
       "      <th>loan_grade_D</th>\n",
       "      <th>loan_grade_E</th>\n",
       "      <th>loan_grade_F</th>\n",
       "      <th>loan_grade_G</th>\n",
       "      <th>cb_person_default_on_file_Y</th>\n",
       "    </tr>\n",
       "  </thead>\n",
       "  <tbody>\n",
       "    <tr>\n",
       "      <th>0</th>\n",
       "      <td>0</td>\n",
       "      <td>0</td>\n",
       "      <td>1</td>\n",
       "      <td>0</td>\n",
       "      <td>0</td>\n",
       "      <td>0</td>\n",
       "      <td>1</td>\n",
       "      <td>0</td>\n",
       "      <td>0</td>\n",
       "      <td>0</td>\n",
       "      <td>1</td>\n",
       "      <td>0</td>\n",
       "      <td>0</td>\n",
       "      <td>0</td>\n",
       "      <td>1</td>\n",
       "    </tr>\n",
       "    <tr>\n",
       "      <th>1</th>\n",
       "      <td>0</td>\n",
       "      <td>1</td>\n",
       "      <td>0</td>\n",
       "      <td>1</td>\n",
       "      <td>0</td>\n",
       "      <td>0</td>\n",
       "      <td>0</td>\n",
       "      <td>0</td>\n",
       "      <td>1</td>\n",
       "      <td>0</td>\n",
       "      <td>0</td>\n",
       "      <td>0</td>\n",
       "      <td>0</td>\n",
       "      <td>0</td>\n",
       "      <td>0</td>\n",
       "    </tr>\n",
       "    <tr>\n",
       "      <th>2</th>\n",
       "      <td>0</td>\n",
       "      <td>0</td>\n",
       "      <td>0</td>\n",
       "      <td>0</td>\n",
       "      <td>0</td>\n",
       "      <td>1</td>\n",
       "      <td>0</td>\n",
       "      <td>0</td>\n",
       "      <td>0</td>\n",
       "      <td>1</td>\n",
       "      <td>0</td>\n",
       "      <td>0</td>\n",
       "      <td>0</td>\n",
       "      <td>0</td>\n",
       "      <td>0</td>\n",
       "    </tr>\n",
       "    <tr>\n",
       "      <th>3</th>\n",
       "      <td>0</td>\n",
       "      <td>0</td>\n",
       "      <td>1</td>\n",
       "      <td>0</td>\n",
       "      <td>0</td>\n",
       "      <td>1</td>\n",
       "      <td>0</td>\n",
       "      <td>0</td>\n",
       "      <td>0</td>\n",
       "      <td>1</td>\n",
       "      <td>0</td>\n",
       "      <td>0</td>\n",
       "      <td>0</td>\n",
       "      <td>0</td>\n",
       "      <td>0</td>\n",
       "    </tr>\n",
       "    <tr>\n",
       "      <th>4</th>\n",
       "      <td>0</td>\n",
       "      <td>0</td>\n",
       "      <td>1</td>\n",
       "      <td>0</td>\n",
       "      <td>0</td>\n",
       "      <td>1</td>\n",
       "      <td>0</td>\n",
       "      <td>0</td>\n",
       "      <td>0</td>\n",
       "      <td>1</td>\n",
       "      <td>0</td>\n",
       "      <td>0</td>\n",
       "      <td>0</td>\n",
       "      <td>0</td>\n",
       "      <td>1</td>\n",
       "    </tr>\n",
       "  </tbody>\n",
       "</table>\n",
       "</div>"
      ],
      "text/plain": [
       "   person_home_ownership_OTHER  person_home_ownership_OWN  \\\n",
       "0                            0                          0   \n",
       "1                            0                          1   \n",
       "2                            0                          0   \n",
       "3                            0                          0   \n",
       "4                            0                          0   \n",
       "\n",
       "   person_home_ownership_RENT  loan_intent_EDUCATION  \\\n",
       "0                           1                      0   \n",
       "1                           0                      1   \n",
       "2                           0                      0   \n",
       "3                           1                      0   \n",
       "4                           1                      0   \n",
       "\n",
       "   loan_intent_HOMEIMPROVEMENT  loan_intent_MEDICAL  loan_intent_PERSONAL  \\\n",
       "0                            0                    0                     1   \n",
       "1                            0                    0                     0   \n",
       "2                            0                    1                     0   \n",
       "3                            0                    1                     0   \n",
       "4                            0                    1                     0   \n",
       "\n",
       "   loan_intent_VENTURE  loan_grade_B  loan_grade_C  loan_grade_D  \\\n",
       "0                    0             0             0             1   \n",
       "1                    0             1             0             0   \n",
       "2                    0             0             1             0   \n",
       "3                    0             0             1             0   \n",
       "4                    0             0             1             0   \n",
       "\n",
       "   loan_grade_E  loan_grade_F  loan_grade_G  cb_person_default_on_file_Y  \n",
       "0             0             0             0                            1  \n",
       "1             0             0             0                            0  \n",
       "2             0             0             0                            0  \n",
       "3             0             0             0                            0  \n",
       "4             0             0             0                            1  "
      ]
     },
     "execution_count": 124,
     "metadata": {},
     "output_type": "execute_result"
    }
   ],
   "source": [
    "data_one_hot_encode.head()"
   ]
  },
  {
   "cell_type": "code",
   "execution_count": 125,
   "id": "cf8f1c1a",
   "metadata": {},
   "outputs": [],
   "source": [
    "data = pd.concat([data, data_one_hot_encode], axis = 1).reset_index(drop = True)"
   ]
  },
  {
   "cell_type": "code",
   "execution_count": 126,
   "id": "ca4c743b",
   "metadata": {},
   "outputs": [
    {
     "data": {
      "text/html": [
       "<div>\n",
       "<style scoped>\n",
       "    .dataframe tbody tr th:only-of-type {\n",
       "        vertical-align: middle;\n",
       "    }\n",
       "\n",
       "    .dataframe tbody tr th {\n",
       "        vertical-align: top;\n",
       "    }\n",
       "\n",
       "    .dataframe thead th {\n",
       "        text-align: right;\n",
       "    }\n",
       "</style>\n",
       "<table border=\"1\" class=\"dataframe\">\n",
       "  <thead>\n",
       "    <tr style=\"text-align: right;\">\n",
       "      <th></th>\n",
       "      <th>person_age</th>\n",
       "      <th>person_income</th>\n",
       "      <th>person_home_ownership</th>\n",
       "      <th>person_emp_length</th>\n",
       "      <th>loan_intent</th>\n",
       "      <th>loan_grade</th>\n",
       "      <th>loan_amnt</th>\n",
       "      <th>loan_int_rate</th>\n",
       "      <th>loan_status</th>\n",
       "      <th>loan_percent_income</th>\n",
       "      <th>...</th>\n",
       "      <th>loan_intent_MEDICAL</th>\n",
       "      <th>loan_intent_PERSONAL</th>\n",
       "      <th>loan_intent_VENTURE</th>\n",
       "      <th>loan_grade_B</th>\n",
       "      <th>loan_grade_C</th>\n",
       "      <th>loan_grade_D</th>\n",
       "      <th>loan_grade_E</th>\n",
       "      <th>loan_grade_F</th>\n",
       "      <th>loan_grade_G</th>\n",
       "      <th>cb_person_default_on_file_Y</th>\n",
       "    </tr>\n",
       "  </thead>\n",
       "  <tbody>\n",
       "    <tr>\n",
       "      <th>0</th>\n",
       "      <td>22</td>\n",
       "      <td>59000</td>\n",
       "      <td>RENT</td>\n",
       "      <td>123.0</td>\n",
       "      <td>PERSONAL</td>\n",
       "      <td>D</td>\n",
       "      <td>35000</td>\n",
       "      <td>16.02</td>\n",
       "      <td>1</td>\n",
       "      <td>0.59</td>\n",
       "      <td>...</td>\n",
       "      <td>0</td>\n",
       "      <td>1</td>\n",
       "      <td>0</td>\n",
       "      <td>0</td>\n",
       "      <td>0</td>\n",
       "      <td>1</td>\n",
       "      <td>0</td>\n",
       "      <td>0</td>\n",
       "      <td>0</td>\n",
       "      <td>1</td>\n",
       "    </tr>\n",
       "    <tr>\n",
       "      <th>1</th>\n",
       "      <td>21</td>\n",
       "      <td>9600</td>\n",
       "      <td>OWN</td>\n",
       "      <td>5.0</td>\n",
       "      <td>EDUCATION</td>\n",
       "      <td>B</td>\n",
       "      <td>1000</td>\n",
       "      <td>11.14</td>\n",
       "      <td>0</td>\n",
       "      <td>0.10</td>\n",
       "      <td>...</td>\n",
       "      <td>0</td>\n",
       "      <td>0</td>\n",
       "      <td>0</td>\n",
       "      <td>1</td>\n",
       "      <td>0</td>\n",
       "      <td>0</td>\n",
       "      <td>0</td>\n",
       "      <td>0</td>\n",
       "      <td>0</td>\n",
       "      <td>0</td>\n",
       "    </tr>\n",
       "    <tr>\n",
       "      <th>2</th>\n",
       "      <td>25</td>\n",
       "      <td>9600</td>\n",
       "      <td>MORTGAGE</td>\n",
       "      <td>1.0</td>\n",
       "      <td>MEDICAL</td>\n",
       "      <td>C</td>\n",
       "      <td>5500</td>\n",
       "      <td>12.87</td>\n",
       "      <td>1</td>\n",
       "      <td>0.57</td>\n",
       "      <td>...</td>\n",
       "      <td>1</td>\n",
       "      <td>0</td>\n",
       "      <td>0</td>\n",
       "      <td>0</td>\n",
       "      <td>1</td>\n",
       "      <td>0</td>\n",
       "      <td>0</td>\n",
       "      <td>0</td>\n",
       "      <td>0</td>\n",
       "      <td>0</td>\n",
       "    </tr>\n",
       "    <tr>\n",
       "      <th>3</th>\n",
       "      <td>23</td>\n",
       "      <td>65500</td>\n",
       "      <td>RENT</td>\n",
       "      <td>4.0</td>\n",
       "      <td>MEDICAL</td>\n",
       "      <td>C</td>\n",
       "      <td>35000</td>\n",
       "      <td>15.23</td>\n",
       "      <td>1</td>\n",
       "      <td>0.53</td>\n",
       "      <td>...</td>\n",
       "      <td>1</td>\n",
       "      <td>0</td>\n",
       "      <td>0</td>\n",
       "      <td>0</td>\n",
       "      <td>1</td>\n",
       "      <td>0</td>\n",
       "      <td>0</td>\n",
       "      <td>0</td>\n",
       "      <td>0</td>\n",
       "      <td>0</td>\n",
       "    </tr>\n",
       "    <tr>\n",
       "      <th>4</th>\n",
       "      <td>24</td>\n",
       "      <td>54400</td>\n",
       "      <td>RENT</td>\n",
       "      <td>8.0</td>\n",
       "      <td>MEDICAL</td>\n",
       "      <td>C</td>\n",
       "      <td>35000</td>\n",
       "      <td>14.27</td>\n",
       "      <td>1</td>\n",
       "      <td>0.55</td>\n",
       "      <td>...</td>\n",
       "      <td>1</td>\n",
       "      <td>0</td>\n",
       "      <td>0</td>\n",
       "      <td>0</td>\n",
       "      <td>1</td>\n",
       "      <td>0</td>\n",
       "      <td>0</td>\n",
       "      <td>0</td>\n",
       "      <td>0</td>\n",
       "      <td>1</td>\n",
       "    </tr>\n",
       "  </tbody>\n",
       "</table>\n",
       "<p>5 rows × 27 columns</p>\n",
       "</div>"
      ],
      "text/plain": [
       "   person_age  person_income person_home_ownership  person_emp_length  \\\n",
       "0          22          59000                  RENT              123.0   \n",
       "1          21           9600                   OWN                5.0   \n",
       "2          25           9600              MORTGAGE                1.0   \n",
       "3          23          65500                  RENT                4.0   \n",
       "4          24          54400                  RENT                8.0   \n",
       "\n",
       "  loan_intent loan_grade  loan_amnt  loan_int_rate  loan_status  \\\n",
       "0    PERSONAL          D      35000          16.02            1   \n",
       "1   EDUCATION          B       1000          11.14            0   \n",
       "2     MEDICAL          C       5500          12.87            1   \n",
       "3     MEDICAL          C      35000          15.23            1   \n",
       "4     MEDICAL          C      35000          14.27            1   \n",
       "\n",
       "   loan_percent_income  ... loan_intent_MEDICAL  loan_intent_PERSONAL  \\\n",
       "0                 0.59  ...                   0                     1   \n",
       "1                 0.10  ...                   0                     0   \n",
       "2                 0.57  ...                   1                     0   \n",
       "3                 0.53  ...                   1                     0   \n",
       "4                 0.55  ...                   1                     0   \n",
       "\n",
       "   loan_intent_VENTURE  loan_grade_B  loan_grade_C  loan_grade_D  \\\n",
       "0                    0             0             0             1   \n",
       "1                    0             1             0             0   \n",
       "2                    0             0             1             0   \n",
       "3                    0             0             1             0   \n",
       "4                    0             0             1             0   \n",
       "\n",
       "   loan_grade_E  loan_grade_F  loan_grade_G  cb_person_default_on_file_Y  \n",
       "0             0             0             0                            1  \n",
       "1             0             0             0                            0  \n",
       "2             0             0             0                            0  \n",
       "3             0             0             0                            0  \n",
       "4             0             0             0                            1  \n",
       "\n",
       "[5 rows x 27 columns]"
      ]
     },
     "execution_count": 126,
     "metadata": {},
     "output_type": "execute_result"
    }
   ],
   "source": [
    "data.head()"
   ]
  },
  {
   "cell_type": "code",
   "execution_count": 127,
   "id": "f8dc7c52",
   "metadata": {},
   "outputs": [],
   "source": [
    "import pickle\n",
    "\n",
    "OneHotEncoder = 'OHE-1.0.0.pkl'\n",
    "ColumnName = 'COL-NAME1.0.0.pkl'\n",
    "\n",
    "with open(OneHotEncoder, 'wb') as f:\n",
    "    pickle.dump(ohe, f)\n",
    "    \n",
    "with open(ColumnName, 'wb') as f:\n",
    "    pickle.dump(cat_columns, f)"
   ]
  },
  {
   "cell_type": "markdown",
   "id": "1b21d2e1",
   "metadata": {},
   "source": [
    "### WOE "
   ]
  },
  {
   "cell_type": "code",
   "execution_count": 128,
   "id": "f57fea72",
   "metadata": {},
   "outputs": [
    {
     "data": {
      "text/html": [
       "<div>\n",
       "<style scoped>\n",
       "    .dataframe tbody tr th:only-of-type {\n",
       "        vertical-align: middle;\n",
       "    }\n",
       "\n",
       "    .dataframe tbody tr th {\n",
       "        vertical-align: top;\n",
       "    }\n",
       "\n",
       "    .dataframe thead th {\n",
       "        text-align: right;\n",
       "    }\n",
       "</style>\n",
       "<table border=\"1\" class=\"dataframe\">\n",
       "  <thead>\n",
       "    <tr style=\"text-align: right;\">\n",
       "      <th>loan_status</th>\n",
       "      <th>0</th>\n",
       "      <th>1</th>\n",
       "      <th>woe</th>\n",
       "      <th>iv</th>\n",
       "    </tr>\n",
       "    <tr>\n",
       "      <th>row_0</th>\n",
       "      <th></th>\n",
       "      <th></th>\n",
       "      <th></th>\n",
       "      <th></th>\n",
       "    </tr>\n",
       "  </thead>\n",
       "  <tbody>\n",
       "    <tr>\n",
       "      <th>(-inf, 20.0]</th>\n",
       "      <td>0.000513</td>\n",
       "      <td>0.000282</td>\n",
       "      <td>-0.598475</td>\n",
       "      <td>0.005105</td>\n",
       "    </tr>\n",
       "    <tr>\n",
       "      <th>(20.0, 25.0]</th>\n",
       "      <td>0.462155</td>\n",
       "      <td>0.497249</td>\n",
       "      <td>0.073191</td>\n",
       "      <td>0.005105</td>\n",
       "    </tr>\n",
       "    <tr>\n",
       "      <th>(25.0, 30.0]</th>\n",
       "      <td>0.294468</td>\n",
       "      <td>0.278036</td>\n",
       "      <td>-0.057420</td>\n",
       "      <td>0.005105</td>\n",
       "    </tr>\n",
       "    <tr>\n",
       "      <th>(30.0, inf]</th>\n",
       "      <td>0.242863</td>\n",
       "      <td>0.224432</td>\n",
       "      <td>-0.078925</td>\n",
       "      <td>0.005105</td>\n",
       "    </tr>\n",
       "  </tbody>\n",
       "</table>\n",
       "</div>"
      ],
      "text/plain": [
       "loan_status          0         1       woe        iv\n",
       "row_0                                               \n",
       "(-inf, 20.0]  0.000513  0.000282 -0.598475  0.005105\n",
       "(20.0, 25.0]  0.462155  0.497249  0.073191  0.005105\n",
       "(25.0, 30.0]  0.294468  0.278036 -0.057420  0.005105\n",
       "(30.0, inf]   0.242863  0.224432 -0.078925  0.005105"
      ]
     },
     "execution_count": 128,
     "metadata": {},
     "output_type": "execute_result"
    }
   ],
   "source": [
    "# person age\n",
    "feature = 'person_age'\n",
    "binning=[-float(\"inf\"), 20, 25, 30, float(\"inf\")]\n",
    "\n",
    "bin_feature = pd.cut(data[feature], bins=binning).values.add_categories('Nan').fillna('Nan')\n",
    "data_woe_iv = (pd.crosstab(bin_feature,y,normalize='columns')\n",
    "             .assign(woe=lambda datax: np.log(datax[1] / datax[0]))\n",
    "             .assign(iv=lambda datax: np.sum(datax['woe']*\n",
    "                                           (datax[1]-datax[0]))))\n",
    "\n",
    "data_woe_iv\n"
   ]
  },
  {
   "cell_type": "code",
   "execution_count": 129,
   "id": "87e2660a",
   "metadata": {},
   "outputs": [],
   "source": [
    "# person_age\n",
    "data[f'{feature}_WOE'] = pd.cut(data[feature], bins=binning, labels=[-0.598, 0.073, -0.057, -0.007])\n",
    "data[f'{feature}_WOE'] = data[f'{feature}_WOE'].values.add_categories('Nan').fillna('Nan') \n",
    "data[f'{feature}_WOE'] = data[f'{feature}_WOE'].replace('Nan', 0)\n",
    "data[f'{feature}_WOE'] = data[f'{feature}_WOE'].astype(float)"
   ]
  },
  {
   "cell_type": "code",
   "execution_count": 130,
   "id": "81628542",
   "metadata": {},
   "outputs": [
    {
     "data": {
      "text/html": [
       "<div>\n",
       "<style scoped>\n",
       "    .dataframe tbody tr th:only-of-type {\n",
       "        vertical-align: middle;\n",
       "    }\n",
       "\n",
       "    .dataframe tbody tr th {\n",
       "        vertical-align: top;\n",
       "    }\n",
       "\n",
       "    .dataframe thead th {\n",
       "        text-align: right;\n",
       "    }\n",
       "</style>\n",
       "<table border=\"1\" class=\"dataframe\">\n",
       "  <thead>\n",
       "    <tr style=\"text-align: right;\">\n",
       "      <th>loan_status</th>\n",
       "      <th>0</th>\n",
       "      <th>1</th>\n",
       "      <th>woe</th>\n",
       "      <th>iv</th>\n",
       "    </tr>\n",
       "    <tr>\n",
       "      <th>row_0</th>\n",
       "      <th></th>\n",
       "      <th></th>\n",
       "      <th></th>\n",
       "      <th></th>\n",
       "    </tr>\n",
       "  </thead>\n",
       "  <tbody>\n",
       "    <tr>\n",
       "      <th>(-inf, 6.0]</th>\n",
       "      <td>0.049828</td>\n",
       "      <td>0.012131</td>\n",
       "      <td>-1.412779</td>\n",
       "      <td>0.560435</td>\n",
       "    </tr>\n",
       "    <tr>\n",
       "      <th>(6.0, 10.0]</th>\n",
       "      <td>0.358945</td>\n",
       "      <td>0.166737</td>\n",
       "      <td>-0.766750</td>\n",
       "      <td>0.560435</td>\n",
       "    </tr>\n",
       "    <tr>\n",
       "      <th>(10.0, 15.0]</th>\n",
       "      <td>0.437517</td>\n",
       "      <td>0.449429</td>\n",
       "      <td>0.026861</td>\n",
       "      <td>0.560435</td>\n",
       "    </tr>\n",
       "    <tr>\n",
       "      <th>(15.0, inf]</th>\n",
       "      <td>0.056817</td>\n",
       "      <td>0.281281</td>\n",
       "      <td>1.599521</td>\n",
       "      <td>0.560435</td>\n",
       "    </tr>\n",
       "    <tr>\n",
       "      <th>Nan</th>\n",
       "      <td>0.096893</td>\n",
       "      <td>0.090422</td>\n",
       "      <td>-0.069118</td>\n",
       "      <td>0.560435</td>\n",
       "    </tr>\n",
       "  </tbody>\n",
       "</table>\n",
       "</div>"
      ],
      "text/plain": [
       "loan_status          0         1       woe        iv\n",
       "row_0                                               \n",
       "(-inf, 6.0]   0.049828  0.012131 -1.412779  0.560435\n",
       "(6.0, 10.0]   0.358945  0.166737 -0.766750  0.560435\n",
       "(10.0, 15.0]  0.437517  0.449429  0.026861  0.560435\n",
       "(15.0, inf]   0.056817  0.281281  1.599521  0.560435\n",
       "Nan           0.096893  0.090422 -0.069118  0.560435"
      ]
     },
     "execution_count": 130,
     "metadata": {},
     "output_type": "execute_result"
    }
   ],
   "source": [
    "# loan_int_rate\n",
    "feature = 'loan_int_rate'\n",
    "binning=[-float(\"inf\"), 6, 10, 15, float(\"inf\")]\n",
    "\n",
    "bin_feature = pd.cut(data[feature], bins=binning).values.add_categories('Nan').fillna('Nan')\n",
    "data_woe_iv = (pd.crosstab(bin_feature,y,normalize='columns')\n",
    "             .assign(woe=lambda datax: np.log(datax[1] / datax[0]))\n",
    "             .assign(iv=lambda datax: np.sum(datax['woe']*\n",
    "                                           (datax[1]-datax[0]))))\n",
    "\n",
    "data_woe_iv"
   ]
  },
  {
   "cell_type": "code",
   "execution_count": 131,
   "id": "57597c71",
   "metadata": {},
   "outputs": [],
   "source": [
    "data[f'{feature}_WOE'] = pd.cut(data[feature], bins=binning, labels=[-1.412, -0.766, 0.026, 1.599])\n",
    "data[f'{feature}_WOE'] = data[f'{feature}_WOE'].values.add_categories('Nan').fillna('Nan') \n",
    "data[f'{feature}_WOE'] = data[f'{feature}_WOE'].replace('Nan', 0)\n",
    "data[f'{feature}_WOE'] = data[f'{feature}_WOE'].astype(float)"
   ]
  },
  {
   "cell_type": "code",
   "execution_count": 132,
   "id": "3e96980c",
   "metadata": {},
   "outputs": [
    {
     "data": {
      "text/html": [
       "<div>\n",
       "<style scoped>\n",
       "    .dataframe tbody tr th:only-of-type {\n",
       "        vertical-align: middle;\n",
       "    }\n",
       "\n",
       "    .dataframe tbody tr th {\n",
       "        vertical-align: top;\n",
       "    }\n",
       "\n",
       "    .dataframe thead th {\n",
       "        text-align: right;\n",
       "    }\n",
       "</style>\n",
       "<table border=\"1\" class=\"dataframe\">\n",
       "  <thead>\n",
       "    <tr style=\"text-align: right;\">\n",
       "      <th>loan_status</th>\n",
       "      <th>0</th>\n",
       "      <th>1</th>\n",
       "      <th>woe</th>\n",
       "      <th>iv</th>\n",
       "    </tr>\n",
       "    <tr>\n",
       "      <th>row_0</th>\n",
       "      <th></th>\n",
       "      <th></th>\n",
       "      <th></th>\n",
       "      <th></th>\n",
       "    </tr>\n",
       "  </thead>\n",
       "  <tbody>\n",
       "    <tr>\n",
       "      <th>(-inf, 0.1]</th>\n",
       "      <td>0.363407</td>\n",
       "      <td>0.172944</td>\n",
       "      <td>-0.742555</td>\n",
       "      <td>0.899409</td>\n",
       "    </tr>\n",
       "    <tr>\n",
       "      <th>(0.1, 0.3]</th>\n",
       "      <td>0.592016</td>\n",
       "      <td>0.447595</td>\n",
       "      <td>-0.279646</td>\n",
       "      <td>0.899409</td>\n",
       "    </tr>\n",
       "    <tr>\n",
       "      <th>(0.3, 0.6]</th>\n",
       "      <td>0.044143</td>\n",
       "      <td>0.373960</td>\n",
       "      <td>2.136722</td>\n",
       "      <td>0.899409</td>\n",
       "    </tr>\n",
       "    <tr>\n",
       "      <th>(0.6, inf]</th>\n",
       "      <td>0.000434</td>\n",
       "      <td>0.005501</td>\n",
       "      <td>2.538993</td>\n",
       "      <td>0.899409</td>\n",
       "    </tr>\n",
       "  </tbody>\n",
       "</table>\n",
       "</div>"
      ],
      "text/plain": [
       "loan_status         0         1       woe        iv\n",
       "row_0                                              \n",
       "(-inf, 0.1]  0.363407  0.172944 -0.742555  0.899409\n",
       "(0.1, 0.3]   0.592016  0.447595 -0.279646  0.899409\n",
       "(0.3, 0.6]   0.044143  0.373960  2.136722  0.899409\n",
       "(0.6, inf]   0.000434  0.005501  2.538993  0.899409"
      ]
     },
     "execution_count": 132,
     "metadata": {},
     "output_type": "execute_result"
    }
   ],
   "source": [
    "# loan_percent_income\n",
    "feature = 'loan_percent_income'\n",
    "binning=[-float(\"inf\"), 0.1, 0.3, 0.6, float(\"inf\")]\n",
    "\n",
    "bin_feature = pd.cut(data[feature], bins=binning).values.add_categories('Nan').fillna('Nan')\n",
    "data_woe_iv = (pd.crosstab(bin_feature,y,normalize='columns')\n",
    "             .assign(woe=lambda datax: np.log(datax[1] / datax[0]))\n",
    "             .assign(iv=lambda datax: np.sum(datax['woe']*\n",
    "                                           (datax[1]-datax[0]))))\n",
    "\n",
    "data_woe_iv"
   ]
  },
  {
   "cell_type": "code",
   "execution_count": 133,
   "id": "6e4c3a88",
   "metadata": {},
   "outputs": [],
   "source": [
    "data[f'{feature}_WOE'] = pd.cut(data[feature], bins=binning, labels=[-0.742, -0.279, 2.136, 2.538])\n",
    "data[f'{feature}_WOE'] = data[f'{feature}_WOE'].values.add_categories('Nan').fillna('Nan') \n",
    "data[f'{feature}_WOE'] = data[f'{feature}_WOE'].replace('Nan', 0)\n",
    "data[f'{feature}_WOE'] = data[f'{feature}_WOE'].astype(float)"
   ]
  },
  {
   "cell_type": "code",
   "execution_count": 134,
   "id": "714660c7",
   "metadata": {},
   "outputs": [
    {
     "data": {
      "text/html": [
       "<div>\n",
       "<style scoped>\n",
       "    .dataframe tbody tr th:only-of-type {\n",
       "        vertical-align: middle;\n",
       "    }\n",
       "\n",
       "    .dataframe tbody tr th {\n",
       "        vertical-align: top;\n",
       "    }\n",
       "\n",
       "    .dataframe thead th {\n",
       "        text-align: right;\n",
       "    }\n",
       "</style>\n",
       "<table border=\"1\" class=\"dataframe\">\n",
       "  <thead>\n",
       "    <tr style=\"text-align: right;\">\n",
       "      <th>loan_status</th>\n",
       "      <th>0</th>\n",
       "      <th>1</th>\n",
       "      <th>woe</th>\n",
       "      <th>iv</th>\n",
       "    </tr>\n",
       "    <tr>\n",
       "      <th>row_0</th>\n",
       "      <th></th>\n",
       "      <th></th>\n",
       "      <th></th>\n",
       "      <th></th>\n",
       "    </tr>\n",
       "  </thead>\n",
       "  <tbody>\n",
       "    <tr>\n",
       "      <th>(-inf, 10000.0]</th>\n",
       "      <td>0.000513</td>\n",
       "      <td>0.011003</td>\n",
       "      <td>3.065086</td>\n",
       "      <td>0.454521</td>\n",
       "    </tr>\n",
       "    <tr>\n",
       "      <th>(10000.0, 38452.0]</th>\n",
       "      <td>0.191535</td>\n",
       "      <td>0.442658</td>\n",
       "      <td>0.837728</td>\n",
       "      <td>0.454521</td>\n",
       "    </tr>\n",
       "    <tr>\n",
       "      <th>(38452.0, 55000.0]</th>\n",
       "      <td>0.254827</td>\n",
       "      <td>0.247990</td>\n",
       "      <td>-0.027197</td>\n",
       "      <td>0.454521</td>\n",
       "    </tr>\n",
       "    <tr>\n",
       "      <th>(55000.0, 79218.0]</th>\n",
       "      <td>0.262368</td>\n",
       "      <td>0.193962</td>\n",
       "      <td>-0.302084</td>\n",
       "      <td>0.454521</td>\n",
       "    </tr>\n",
       "    <tr>\n",
       "      <th>(79218.0, 140298.0]</th>\n",
       "      <td>0.238086</td>\n",
       "      <td>0.084074</td>\n",
       "      <td>-1.040935</td>\n",
       "      <td>0.454521</td>\n",
       "    </tr>\n",
       "    <tr>\n",
       "      <th>(140298.0, inf]</th>\n",
       "      <td>0.052671</td>\n",
       "      <td>0.020313</td>\n",
       "      <td>-0.952797</td>\n",
       "      <td>0.454521</td>\n",
       "    </tr>\n",
       "  </tbody>\n",
       "</table>\n",
       "</div>"
      ],
      "text/plain": [
       "loan_status                 0         1       woe        iv\n",
       "row_0                                                      \n",
       "(-inf, 10000.0]      0.000513  0.011003  3.065086  0.454521\n",
       "(10000.0, 38452.0]   0.191535  0.442658  0.837728  0.454521\n",
       "(38452.0, 55000.0]   0.254827  0.247990 -0.027197  0.454521\n",
       "(55000.0, 79218.0]   0.262368  0.193962 -0.302084  0.454521\n",
       "(79218.0, 140298.0]  0.238086  0.084074 -1.040935  0.454521\n",
       "(140298.0, inf]      0.052671  0.020313 -0.952797  0.454521"
      ]
     },
     "execution_count": 134,
     "metadata": {},
     "output_type": "execute_result"
    }
   ],
   "source": [
    "# person_income\n",
    "feature = 'person_income'\n",
    "binning=[-float(\"inf\"), 10000, 38452, 55000,79218, 140298, float(\"inf\")]\n",
    "\n",
    "bin_feature = pd.cut(data[feature], bins=binning).values.add_categories('Nan').fillna('Nan')\n",
    "data_woe_iv = (pd.crosstab(bin_feature,y,normalize='columns')\n",
    "             .assign(woe=lambda datax: np.log(datax[1] / datax[0]))\n",
    "             .assign(iv=lambda datax: np.sum(datax['woe']*\n",
    "                                           (datax[1]-datax[0]))))\n",
    "\n",
    "data_woe_iv"
   ]
  },
  {
   "cell_type": "code",
   "execution_count": 135,
   "id": "16bc1622",
   "metadata": {},
   "outputs": [],
   "source": [
    "data[f'{feature}_WOE'] = pd.cut(data[feature], bins=binning, labels=[3.065, 0.837, -0.027, -0.302, -1.040, -0.952])\n",
    "data[f'{feature}_WOE'] = data[f'{feature}_WOE'].values.add_categories('Nan').fillna('Nan') \n",
    "data[f'{feature}_WOE'] = data[f'{feature}_WOE'].replace('Nan', 0)\n",
    "data[f'{feature}_WOE'] = data[f'{feature}_WOE'].astype(float)"
   ]
  },
  {
   "cell_type": "code",
   "execution_count": 136,
   "id": "9fa35bcc",
   "metadata": {},
   "outputs": [
    {
     "data": {
      "text/html": [
       "<div>\n",
       "<style scoped>\n",
       "    .dataframe tbody tr th:only-of-type {\n",
       "        vertical-align: middle;\n",
       "    }\n",
       "\n",
       "    .dataframe tbody tr th {\n",
       "        vertical-align: top;\n",
       "    }\n",
       "\n",
       "    .dataframe thead th {\n",
       "        text-align: right;\n",
       "    }\n",
       "</style>\n",
       "<table border=\"1\" class=\"dataframe\">\n",
       "  <thead>\n",
       "    <tr style=\"text-align: right;\">\n",
       "      <th>loan_status</th>\n",
       "      <th>0</th>\n",
       "      <th>1</th>\n",
       "      <th>woe</th>\n",
       "      <th>iv</th>\n",
       "    </tr>\n",
       "    <tr>\n",
       "      <th>row_0</th>\n",
       "      <th></th>\n",
       "      <th></th>\n",
       "      <th></th>\n",
       "      <th></th>\n",
       "    </tr>\n",
       "  </thead>\n",
       "  <tbody>\n",
       "    <tr>\n",
       "      <th>(-inf, 1000.0]</th>\n",
       "      <td>0.010424</td>\n",
       "      <td>0.008887</td>\n",
       "      <td>-0.159488</td>\n",
       "      <td>0.07195</td>\n",
       "    </tr>\n",
       "    <tr>\n",
       "      <th>(1000.0, 10000.0]</th>\n",
       "      <td>0.673471</td>\n",
       "      <td>0.568345</td>\n",
       "      <td>-0.169716</td>\n",
       "      <td>0.07195</td>\n",
       "    </tr>\n",
       "    <tr>\n",
       "      <th>(10000.0, 15000.0]</th>\n",
       "      <td>0.184980</td>\n",
       "      <td>0.198335</td>\n",
       "      <td>0.069710</td>\n",
       "      <td>0.07195</td>\n",
       "    </tr>\n",
       "    <tr>\n",
       "      <th>(15000.0, 23125.0]</th>\n",
       "      <td>0.088838</td>\n",
       "      <td>0.138666</td>\n",
       "      <td>0.445250</td>\n",
       "      <td>0.07195</td>\n",
       "    </tr>\n",
       "    <tr>\n",
       "      <th>(23125.0, inf]</th>\n",
       "      <td>0.042287</td>\n",
       "      <td>0.085767</td>\n",
       "      <td>0.707154</td>\n",
       "      <td>0.07195</td>\n",
       "    </tr>\n",
       "  </tbody>\n",
       "</table>\n",
       "</div>"
      ],
      "text/plain": [
       "loan_status                0         1       woe       iv\n",
       "row_0                                                    \n",
       "(-inf, 1000.0]      0.010424  0.008887 -0.159488  0.07195\n",
       "(1000.0, 10000.0]   0.673471  0.568345 -0.169716  0.07195\n",
       "(10000.0, 15000.0]  0.184980  0.198335  0.069710  0.07195\n",
       "(15000.0, 23125.0]  0.088838  0.138666  0.445250  0.07195\n",
       "(23125.0, inf]      0.042287  0.085767  0.707154  0.07195"
      ]
     },
     "execution_count": 136,
     "metadata": {},
     "output_type": "execute_result"
    }
   ],
   "source": [
    "# loan_amnt\n",
    "feature = 'loan_amnt'\n",
    "binning=[-float(\"inf\"), 1000, 10000, 15000, 23125, float(\"inf\")]\n",
    "\n",
    "bin_feature = pd.cut(data[feature], bins=binning).values.add_categories('Nan').fillna('Nan')\n",
    "data_woe_iv = (pd.crosstab(bin_feature,y,normalize='columns')\n",
    "             .assign(woe=lambda datax: np.log(datax[1] / datax[0]))\n",
    "             .assign(iv=lambda datax: np.sum(datax['woe']*\n",
    "                                           (datax[1]-datax[0]))))\n",
    "\n",
    "data_woe_iv"
   ]
  },
  {
   "cell_type": "code",
   "execution_count": 137,
   "id": "f978b4cb",
   "metadata": {},
   "outputs": [],
   "source": [
    "data[f'{feature}_WOE'] = pd.cut(data[feature], bins=binning, labels=[-0.159, -0.169, 0.069, 0.445, 0.707])\n",
    "data[f'{feature}_WOE'] = data[f'{feature}_WOE'].values.add_categories('Nan').fillna('Nan') \n",
    "data[f'{feature}_WOE'] = data[f'{feature}_WOE'].replace('Nan', 0)\n",
    "data[f'{feature}_WOE'] = data[f'{feature}_WOE'].astype(float)"
   ]
  },
  {
   "cell_type": "code",
   "execution_count": 138,
   "id": "37ac3d2c",
   "metadata": {},
   "outputs": [
    {
     "data": {
      "text/html": [
       "<div>\n",
       "<style scoped>\n",
       "    .dataframe tbody tr th:only-of-type {\n",
       "        vertical-align: middle;\n",
       "    }\n",
       "\n",
       "    .dataframe tbody tr th {\n",
       "        vertical-align: top;\n",
       "    }\n",
       "\n",
       "    .dataframe thead th {\n",
       "        text-align: right;\n",
       "    }\n",
       "</style>\n",
       "<table border=\"1\" class=\"dataframe\">\n",
       "  <thead>\n",
       "    <tr style=\"text-align: right;\">\n",
       "      <th>loan_status</th>\n",
       "      <th>0</th>\n",
       "      <th>1</th>\n",
       "      <th>woe</th>\n",
       "      <th>iv</th>\n",
       "    </tr>\n",
       "    <tr>\n",
       "      <th>row_0</th>\n",
       "      <th></th>\n",
       "      <th></th>\n",
       "      <th></th>\n",
       "      <th></th>\n",
       "    </tr>\n",
       "  </thead>\n",
       "  <tbody>\n",
       "    <tr>\n",
       "      <th>(-inf, 4.0]</th>\n",
       "      <td>0.508706</td>\n",
       "      <td>0.597545</td>\n",
       "      <td>0.160960</td>\n",
       "      <td>0.050008</td>\n",
       "    </tr>\n",
       "    <tr>\n",
       "      <th>(4.0, 10.0]</th>\n",
       "      <td>0.370869</td>\n",
       "      <td>0.295951</td>\n",
       "      <td>-0.225653</td>\n",
       "      <td>0.050008</td>\n",
       "    </tr>\n",
       "    <tr>\n",
       "      <th>(10.0, inf]</th>\n",
       "      <td>0.096498</td>\n",
       "      <td>0.066864</td>\n",
       "      <td>-0.366857</td>\n",
       "      <td>0.050008</td>\n",
       "    </tr>\n",
       "    <tr>\n",
       "      <th>Nan</th>\n",
       "      <td>0.023927</td>\n",
       "      <td>0.039639</td>\n",
       "      <td>0.504801</td>\n",
       "      <td>0.050008</td>\n",
       "    </tr>\n",
       "  </tbody>\n",
       "</table>\n",
       "</div>"
      ],
      "text/plain": [
       "loan_status         0         1       woe        iv\n",
       "row_0                                              \n",
       "(-inf, 4.0]  0.508706  0.597545  0.160960  0.050008\n",
       "(4.0, 10.0]  0.370869  0.295951 -0.225653  0.050008\n",
       "(10.0, inf]  0.096498  0.066864 -0.366857  0.050008\n",
       "Nan          0.023927  0.039639  0.504801  0.050008"
      ]
     },
     "execution_count": 138,
     "metadata": {},
     "output_type": "execute_result"
    }
   ],
   "source": [
    "# person_emp_length 2 4 7 123\n",
    "feature = 'person_emp_length'\n",
    "binning = [-float(\"inf\"), 4, 10, float(\"inf\")]\n",
    "\n",
    "bin_feature = pd.cut(data[feature], bins=binning).values.add_categories('Nan').fillna('Nan')\n",
    "data_woe_iv = (pd.crosstab(bin_feature,y,\n",
    "                      normalize='columns')\n",
    "             .assign(woe=lambda datax: np.log(datax[1] / datax[0]))\n",
    "             .assign(iv=lambda datax: np.sum(datax['woe']*\n",
    "                                           (datax[1]-datax[0]))))\n",
    "\n",
    "data_woe_iv"
   ]
  },
  {
   "cell_type": "code",
   "execution_count": 139,
   "id": "78be7e6f",
   "metadata": {},
   "outputs": [],
   "source": [
    "data[f'{feature}_WOE'] = pd.cut(data[feature], bins=binning, labels=[0.160, -0.225, -0.366])\n",
    "data[f'{feature}_WOE'] = data[f'{feature}_WOE'].values.add_categories('Nan').fillna('Nan') \n",
    "data[f'{feature}_WOE'] = data[f'{feature}_WOE'].replace('Nan', 0)\n",
    "data[f'{feature}_WOE'] = data[f'{feature}_WOE'].astype(float)"
   ]
  },
  {
   "cell_type": "code",
   "execution_count": 140,
   "id": "0f6884e2",
   "metadata": {},
   "outputs": [
    {
     "data": {
      "text/html": [
       "<div>\n",
       "<style scoped>\n",
       "    .dataframe tbody tr th:only-of-type {\n",
       "        vertical-align: middle;\n",
       "    }\n",
       "\n",
       "    .dataframe tbody tr th {\n",
       "        vertical-align: top;\n",
       "    }\n",
       "\n",
       "    .dataframe thead th {\n",
       "        text-align: right;\n",
       "    }\n",
       "</style>\n",
       "<table border=\"1\" class=\"dataframe\">\n",
       "  <thead>\n",
       "    <tr style=\"text-align: right;\">\n",
       "      <th>loan_status</th>\n",
       "      <th>0</th>\n",
       "      <th>1</th>\n",
       "      <th>woe</th>\n",
       "      <th>iv</th>\n",
       "    </tr>\n",
       "    <tr>\n",
       "      <th>row_0</th>\n",
       "      <th></th>\n",
       "      <th></th>\n",
       "      <th></th>\n",
       "      <th></th>\n",
       "    </tr>\n",
       "  </thead>\n",
       "  <tbody>\n",
       "    <tr>\n",
       "      <th>(-inf, 3.0]</th>\n",
       "      <td>0.359498</td>\n",
       "      <td>0.384398</td>\n",
       "      <td>0.066971</td>\n",
       "      <td>0.004093</td>\n",
       "    </tr>\n",
       "    <tr>\n",
       "      <th>(3.0, 4.0]</th>\n",
       "      <td>0.180163</td>\n",
       "      <td>0.185922</td>\n",
       "      <td>0.031462</td>\n",
       "      <td>0.004093</td>\n",
       "    </tr>\n",
       "    <tr>\n",
       "      <th>(4.0, 8.0]</th>\n",
       "      <td>0.235401</td>\n",
       "      <td>0.219072</td>\n",
       "      <td>-0.071891</td>\n",
       "      <td>0.004093</td>\n",
       "    </tr>\n",
       "    <tr>\n",
       "      <th>(8.0, 15.5]</th>\n",
       "      <td>0.189718</td>\n",
       "      <td>0.175765</td>\n",
       "      <td>-0.076392</td>\n",
       "      <td>0.004093</td>\n",
       "    </tr>\n",
       "    <tr>\n",
       "      <th>(15.5, inf]</th>\n",
       "      <td>0.035219</td>\n",
       "      <td>0.034843</td>\n",
       "      <td>-0.010751</td>\n",
       "      <td>0.004093</td>\n",
       "    </tr>\n",
       "  </tbody>\n",
       "</table>\n",
       "</div>"
      ],
      "text/plain": [
       "loan_status         0         1       woe        iv\n",
       "row_0                                              \n",
       "(-inf, 3.0]  0.359498  0.384398  0.066971  0.004093\n",
       "(3.0, 4.0]   0.180163  0.185922  0.031462  0.004093\n",
       "(4.0, 8.0]   0.235401  0.219072 -0.071891  0.004093\n",
       "(8.0, 15.5]  0.189718  0.175765 -0.076392  0.004093\n",
       "(15.5, inf]  0.035219  0.034843 -0.010751  0.004093"
      ]
     },
     "execution_count": 140,
     "metadata": {},
     "output_type": "execute_result"
    }
   ],
   "source": [
    "# cb_person_cred_hist_length 2 3 4 8 30\n",
    "feature = 'cb_person_cred_hist_length'\n",
    "binning = [-float(\"inf\"), 3, 4, 8, 15.5, float(\"inf\")]\n",
    "\n",
    "bin_feature = pd.cut(data[feature], bins=binning).values.add_categories('Nan').fillna('Nan')\n",
    "data_woe_iv = (pd.crosstab(bin_feature,y,\n",
    "                      normalize='columns')\n",
    "             .assign(woe=lambda datax: np.log(datax[1] / datax[0]))\n",
    "             .assign(iv=lambda datax: np.sum(datax['woe']*\n",
    "                                           (datax[1]-datax[0]))))\n",
    "\n",
    "data_woe_iv"
   ]
  },
  {
   "cell_type": "code",
   "execution_count": 141,
   "id": "ae98f5c1",
   "metadata": {},
   "outputs": [],
   "source": [
    "data[f'{feature}_WOE'] = pd.cut(data[feature], bins=binning, labels=[0.066, 0.031, -0.071, -0.076, -0.010])\n",
    "data[f'{feature}_WOE'] = data[f'{feature}_WOE'].values.add_categories('Nan').fillna('Nan') \n",
    "data[f'{feature}_WOE'] = data[f'{feature}_WOE'].replace('Nan', 0)\n",
    "data[f'{feature}_WOE'] = data[f'{feature}_WOE'].astype(float) "
   ]
  },
  {
   "cell_type": "code",
   "execution_count": 142,
   "id": "9518c0d8",
   "metadata": {},
   "outputs": [
    {
     "data": {
      "text/html": [
       "<div>\n",
       "<style scoped>\n",
       "    .dataframe tbody tr th:only-of-type {\n",
       "        vertical-align: middle;\n",
       "    }\n",
       "\n",
       "    .dataframe tbody tr th {\n",
       "        vertical-align: top;\n",
       "    }\n",
       "\n",
       "    .dataframe thead th {\n",
       "        text-align: right;\n",
       "    }\n",
       "</style>\n",
       "<table border=\"1\" class=\"dataframe\">\n",
       "  <thead>\n",
       "    <tr style=\"text-align: right;\">\n",
       "      <th></th>\n",
       "      <th>person_age</th>\n",
       "      <th>person_income</th>\n",
       "      <th>person_home_ownership</th>\n",
       "      <th>person_emp_length</th>\n",
       "      <th>loan_intent</th>\n",
       "      <th>loan_grade</th>\n",
       "      <th>loan_amnt</th>\n",
       "      <th>loan_int_rate</th>\n",
       "      <th>loan_status</th>\n",
       "      <th>loan_percent_income</th>\n",
       "      <th>...</th>\n",
       "      <th>loan_grade_F</th>\n",
       "      <th>loan_grade_G</th>\n",
       "      <th>cb_person_default_on_file_Y</th>\n",
       "      <th>person_age_WOE</th>\n",
       "      <th>loan_int_rate_WOE</th>\n",
       "      <th>loan_percent_income_WOE</th>\n",
       "      <th>person_income_WOE</th>\n",
       "      <th>loan_amnt_WOE</th>\n",
       "      <th>person_emp_length_WOE</th>\n",
       "      <th>cb_person_cred_hist_length_WOE</th>\n",
       "    </tr>\n",
       "  </thead>\n",
       "  <tbody>\n",
       "    <tr>\n",
       "      <th>0</th>\n",
       "      <td>22</td>\n",
       "      <td>59000</td>\n",
       "      <td>RENT</td>\n",
       "      <td>123.0</td>\n",
       "      <td>PERSONAL</td>\n",
       "      <td>D</td>\n",
       "      <td>35000</td>\n",
       "      <td>16.02</td>\n",
       "      <td>1</td>\n",
       "      <td>0.59</td>\n",
       "      <td>...</td>\n",
       "      <td>0</td>\n",
       "      <td>0</td>\n",
       "      <td>1</td>\n",
       "      <td>0.073</td>\n",
       "      <td>1.599</td>\n",
       "      <td>2.136</td>\n",
       "      <td>-0.302</td>\n",
       "      <td>0.707</td>\n",
       "      <td>-0.366</td>\n",
       "      <td>0.066</td>\n",
       "    </tr>\n",
       "    <tr>\n",
       "      <th>1</th>\n",
       "      <td>21</td>\n",
       "      <td>9600</td>\n",
       "      <td>OWN</td>\n",
       "      <td>5.0</td>\n",
       "      <td>EDUCATION</td>\n",
       "      <td>B</td>\n",
       "      <td>1000</td>\n",
       "      <td>11.14</td>\n",
       "      <td>0</td>\n",
       "      <td>0.10</td>\n",
       "      <td>...</td>\n",
       "      <td>0</td>\n",
       "      <td>0</td>\n",
       "      <td>0</td>\n",
       "      <td>0.073</td>\n",
       "      <td>0.026</td>\n",
       "      <td>-0.742</td>\n",
       "      <td>3.065</td>\n",
       "      <td>-0.159</td>\n",
       "      <td>-0.225</td>\n",
       "      <td>0.066</td>\n",
       "    </tr>\n",
       "    <tr>\n",
       "      <th>2</th>\n",
       "      <td>25</td>\n",
       "      <td>9600</td>\n",
       "      <td>MORTGAGE</td>\n",
       "      <td>1.0</td>\n",
       "      <td>MEDICAL</td>\n",
       "      <td>C</td>\n",
       "      <td>5500</td>\n",
       "      <td>12.87</td>\n",
       "      <td>1</td>\n",
       "      <td>0.57</td>\n",
       "      <td>...</td>\n",
       "      <td>0</td>\n",
       "      <td>0</td>\n",
       "      <td>0</td>\n",
       "      <td>0.073</td>\n",
       "      <td>0.026</td>\n",
       "      <td>2.136</td>\n",
       "      <td>3.065</td>\n",
       "      <td>-0.169</td>\n",
       "      <td>0.160</td>\n",
       "      <td>0.066</td>\n",
       "    </tr>\n",
       "    <tr>\n",
       "      <th>3</th>\n",
       "      <td>23</td>\n",
       "      <td>65500</td>\n",
       "      <td>RENT</td>\n",
       "      <td>4.0</td>\n",
       "      <td>MEDICAL</td>\n",
       "      <td>C</td>\n",
       "      <td>35000</td>\n",
       "      <td>15.23</td>\n",
       "      <td>1</td>\n",
       "      <td>0.53</td>\n",
       "      <td>...</td>\n",
       "      <td>0</td>\n",
       "      <td>0</td>\n",
       "      <td>0</td>\n",
       "      <td>0.073</td>\n",
       "      <td>1.599</td>\n",
       "      <td>2.136</td>\n",
       "      <td>-0.302</td>\n",
       "      <td>0.707</td>\n",
       "      <td>0.160</td>\n",
       "      <td>0.066</td>\n",
       "    </tr>\n",
       "    <tr>\n",
       "      <th>4</th>\n",
       "      <td>24</td>\n",
       "      <td>54400</td>\n",
       "      <td>RENT</td>\n",
       "      <td>8.0</td>\n",
       "      <td>MEDICAL</td>\n",
       "      <td>C</td>\n",
       "      <td>35000</td>\n",
       "      <td>14.27</td>\n",
       "      <td>1</td>\n",
       "      <td>0.55</td>\n",
       "      <td>...</td>\n",
       "      <td>0</td>\n",
       "      <td>0</td>\n",
       "      <td>1</td>\n",
       "      <td>0.073</td>\n",
       "      <td>0.026</td>\n",
       "      <td>2.136</td>\n",
       "      <td>-0.027</td>\n",
       "      <td>0.707</td>\n",
       "      <td>-0.225</td>\n",
       "      <td>0.031</td>\n",
       "    </tr>\n",
       "  </tbody>\n",
       "</table>\n",
       "<p>5 rows × 34 columns</p>\n",
       "</div>"
      ],
      "text/plain": [
       "   person_age  person_income person_home_ownership  person_emp_length  \\\n",
       "0          22          59000                  RENT              123.0   \n",
       "1          21           9600                   OWN                5.0   \n",
       "2          25           9600              MORTGAGE                1.0   \n",
       "3          23          65500                  RENT                4.0   \n",
       "4          24          54400                  RENT                8.0   \n",
       "\n",
       "  loan_intent loan_grade  loan_amnt  loan_int_rate  loan_status  \\\n",
       "0    PERSONAL          D      35000          16.02            1   \n",
       "1   EDUCATION          B       1000          11.14            0   \n",
       "2     MEDICAL          C       5500          12.87            1   \n",
       "3     MEDICAL          C      35000          15.23            1   \n",
       "4     MEDICAL          C      35000          14.27            1   \n",
       "\n",
       "   loan_percent_income  ... loan_grade_F  loan_grade_G  \\\n",
       "0                 0.59  ...            0             0   \n",
       "1                 0.10  ...            0             0   \n",
       "2                 0.57  ...            0             0   \n",
       "3                 0.53  ...            0             0   \n",
       "4                 0.55  ...            0             0   \n",
       "\n",
       "   cb_person_default_on_file_Y  person_age_WOE  loan_int_rate_WOE  \\\n",
       "0                            1           0.073              1.599   \n",
       "1                            0           0.073              0.026   \n",
       "2                            0           0.073              0.026   \n",
       "3                            0           0.073              1.599   \n",
       "4                            1           0.073              0.026   \n",
       "\n",
       "   loan_percent_income_WOE  person_income_WOE  loan_amnt_WOE  \\\n",
       "0                    2.136             -0.302          0.707   \n",
       "1                   -0.742              3.065         -0.159   \n",
       "2                    2.136              3.065         -0.169   \n",
       "3                    2.136             -0.302          0.707   \n",
       "4                    2.136             -0.027          0.707   \n",
       "\n",
       "   person_emp_length_WOE  cb_person_cred_hist_length_WOE  \n",
       "0                 -0.366                           0.066  \n",
       "1                 -0.225                           0.066  \n",
       "2                  0.160                           0.066  \n",
       "3                  0.160                           0.066  \n",
       "4                 -0.225                           0.031  \n",
       "\n",
       "[5 rows x 34 columns]"
      ]
     },
     "execution_count": 142,
     "metadata": {},
     "output_type": "execute_result"
    }
   ],
   "source": [
    "data.head()"
   ]
  },
  {
   "cell_type": "markdown",
   "id": "20c832fe",
   "metadata": {},
   "source": [
    "### Handling Outlier "
   ]
  },
  {
   "cell_type": "code",
   "execution_count": 143,
   "id": "42ca4bbc",
   "metadata": {},
   "outputs": [],
   "source": [
    "woe = {\n",
    "    'person_age' : {'binning':[-float(\"inf\"), 20, 25, 30, float(\"inf\")], 'labels':[-0.598, 0.073, -0.057, -0.007],'nan':0},\n",
    "    'loan_int_rate' : {'binning':[-float(\"inf\"), 6, 10, 15, float(\"inf\")], 'labels':[-1.412, -0.766, 0.026, 1.599],'nan':0},\n",
    "    'loan_percent_income' : {'binning':[-float(\"inf\"), 0.1, 0.3, 0.6, float(\"inf\")], 'labels':[-0.742, -0.279, 2.136, 2.538],'nan':0},\n",
    "    'person_income' : {'binning':[-float(\"inf\"), 10000, 38452, 55000,79218, 140298, float(\"inf\")], 'labels':[3.065, 0.837, -0.027, -0.302, -1.040, -0.952],'nan':0},\n",
    "    'loan_amnt' : {'binning':[-float(\"inf\"), 1000, 10000, 15000, 23125, float(\"inf\")], 'labels':[-0.159, -0.169, 0.069, 0.445, 0.707],'nan':0},\n",
    "    'person_emp_length' : {'binning':[-float(\"inf\"), 4, 10, float(\"inf\")], 'labels':[0.160, -0.225, -0.366],'nan':0},\n",
    "    'cb_person_cred_hist_length' : {'binning':[-float(\"inf\"), 3, 4, 8, 15.5, float(\"inf\")], 'labels':[0.066, 0.031, -0.071, -0.076, -0.010],'nan':0}    \n",
    "}\n",
    "    "
   ]
  },
  {
   "cell_type": "code",
   "execution_count": 144,
   "id": "016c43dc",
   "metadata": {},
   "outputs": [
    {
     "data": {
      "text/html": [
       "<div>\n",
       "<style scoped>\n",
       "    .dataframe tbody tr th:only-of-type {\n",
       "        vertical-align: middle;\n",
       "    }\n",
       "\n",
       "    .dataframe tbody tr th {\n",
       "        vertical-align: top;\n",
       "    }\n",
       "\n",
       "    .dataframe thead th {\n",
       "        text-align: right;\n",
       "    }\n",
       "</style>\n",
       "<table border=\"1\" class=\"dataframe\">\n",
       "  <thead>\n",
       "    <tr style=\"text-align: right;\">\n",
       "      <th></th>\n",
       "      <th>person_age</th>\n",
       "      <th>person_income</th>\n",
       "      <th>person_home_ownership</th>\n",
       "      <th>person_emp_length</th>\n",
       "      <th>loan_intent</th>\n",
       "      <th>loan_grade</th>\n",
       "      <th>loan_amnt</th>\n",
       "      <th>loan_int_rate</th>\n",
       "      <th>loan_status</th>\n",
       "      <th>loan_percent_income</th>\n",
       "      <th>...</th>\n",
       "      <th>loan_grade_F</th>\n",
       "      <th>loan_grade_G</th>\n",
       "      <th>cb_person_default_on_file_Y</th>\n",
       "      <th>person_age_WOE</th>\n",
       "      <th>loan_int_rate_WOE</th>\n",
       "      <th>loan_percent_income_WOE</th>\n",
       "      <th>person_income_WOE</th>\n",
       "      <th>loan_amnt_WOE</th>\n",
       "      <th>person_emp_length_WOE</th>\n",
       "      <th>cb_person_cred_hist_length_WOE</th>\n",
       "    </tr>\n",
       "  </thead>\n",
       "  <tbody>\n",
       "    <tr>\n",
       "      <th>0</th>\n",
       "      <td>22</td>\n",
       "      <td>59000</td>\n",
       "      <td>RENT</td>\n",
       "      <td>123.0</td>\n",
       "      <td>PERSONAL</td>\n",
       "      <td>D</td>\n",
       "      <td>35000</td>\n",
       "      <td>16.02</td>\n",
       "      <td>1</td>\n",
       "      <td>0.59</td>\n",
       "      <td>...</td>\n",
       "      <td>0</td>\n",
       "      <td>0</td>\n",
       "      <td>1</td>\n",
       "      <td>0.073</td>\n",
       "      <td>1.599</td>\n",
       "      <td>2.136</td>\n",
       "      <td>-0.302</td>\n",
       "      <td>0.707</td>\n",
       "      <td>-0.366</td>\n",
       "      <td>0.066</td>\n",
       "    </tr>\n",
       "    <tr>\n",
       "      <th>1</th>\n",
       "      <td>21</td>\n",
       "      <td>9600</td>\n",
       "      <td>OWN</td>\n",
       "      <td>5.0</td>\n",
       "      <td>EDUCATION</td>\n",
       "      <td>B</td>\n",
       "      <td>1000</td>\n",
       "      <td>11.14</td>\n",
       "      <td>0</td>\n",
       "      <td>0.10</td>\n",
       "      <td>...</td>\n",
       "      <td>0</td>\n",
       "      <td>0</td>\n",
       "      <td>0</td>\n",
       "      <td>0.073</td>\n",
       "      <td>0.026</td>\n",
       "      <td>-0.742</td>\n",
       "      <td>3.065</td>\n",
       "      <td>-0.159</td>\n",
       "      <td>-0.225</td>\n",
       "      <td>0.066</td>\n",
       "    </tr>\n",
       "    <tr>\n",
       "      <th>2</th>\n",
       "      <td>25</td>\n",
       "      <td>9600</td>\n",
       "      <td>MORTGAGE</td>\n",
       "      <td>1.0</td>\n",
       "      <td>MEDICAL</td>\n",
       "      <td>C</td>\n",
       "      <td>5500</td>\n",
       "      <td>12.87</td>\n",
       "      <td>1</td>\n",
       "      <td>0.57</td>\n",
       "      <td>...</td>\n",
       "      <td>0</td>\n",
       "      <td>0</td>\n",
       "      <td>0</td>\n",
       "      <td>0.073</td>\n",
       "      <td>0.026</td>\n",
       "      <td>2.136</td>\n",
       "      <td>3.065</td>\n",
       "      <td>-0.169</td>\n",
       "      <td>0.160</td>\n",
       "      <td>0.066</td>\n",
       "    </tr>\n",
       "    <tr>\n",
       "      <th>3</th>\n",
       "      <td>23</td>\n",
       "      <td>65500</td>\n",
       "      <td>RENT</td>\n",
       "      <td>4.0</td>\n",
       "      <td>MEDICAL</td>\n",
       "      <td>C</td>\n",
       "      <td>35000</td>\n",
       "      <td>15.23</td>\n",
       "      <td>1</td>\n",
       "      <td>0.53</td>\n",
       "      <td>...</td>\n",
       "      <td>0</td>\n",
       "      <td>0</td>\n",
       "      <td>0</td>\n",
       "      <td>0.073</td>\n",
       "      <td>1.599</td>\n",
       "      <td>2.136</td>\n",
       "      <td>-0.302</td>\n",
       "      <td>0.707</td>\n",
       "      <td>0.160</td>\n",
       "      <td>0.066</td>\n",
       "    </tr>\n",
       "    <tr>\n",
       "      <th>4</th>\n",
       "      <td>24</td>\n",
       "      <td>54400</td>\n",
       "      <td>RENT</td>\n",
       "      <td>8.0</td>\n",
       "      <td>MEDICAL</td>\n",
       "      <td>C</td>\n",
       "      <td>35000</td>\n",
       "      <td>14.27</td>\n",
       "      <td>1</td>\n",
       "      <td>0.55</td>\n",
       "      <td>...</td>\n",
       "      <td>0</td>\n",
       "      <td>0</td>\n",
       "      <td>1</td>\n",
       "      <td>0.073</td>\n",
       "      <td>0.026</td>\n",
       "      <td>2.136</td>\n",
       "      <td>-0.027</td>\n",
       "      <td>0.707</td>\n",
       "      <td>-0.225</td>\n",
       "      <td>0.031</td>\n",
       "    </tr>\n",
       "  </tbody>\n",
       "</table>\n",
       "<p>5 rows × 34 columns</p>\n",
       "</div>"
      ],
      "text/plain": [
       "   person_age  person_income person_home_ownership  person_emp_length  \\\n",
       "0          22          59000                  RENT              123.0   \n",
       "1          21           9600                   OWN                5.0   \n",
       "2          25           9600              MORTGAGE                1.0   \n",
       "3          23          65500                  RENT                4.0   \n",
       "4          24          54400                  RENT                8.0   \n",
       "\n",
       "  loan_intent loan_grade  loan_amnt  loan_int_rate  loan_status  \\\n",
       "0    PERSONAL          D      35000          16.02            1   \n",
       "1   EDUCATION          B       1000          11.14            0   \n",
       "2     MEDICAL          C       5500          12.87            1   \n",
       "3     MEDICAL          C      35000          15.23            1   \n",
       "4     MEDICAL          C      35000          14.27            1   \n",
       "\n",
       "   loan_percent_income  ... loan_grade_F  loan_grade_G  \\\n",
       "0                 0.59  ...            0             0   \n",
       "1                 0.10  ...            0             0   \n",
       "2                 0.57  ...            0             0   \n",
       "3                 0.53  ...            0             0   \n",
       "4                 0.55  ...            0             0   \n",
       "\n",
       "   cb_person_default_on_file_Y  person_age_WOE  loan_int_rate_WOE  \\\n",
       "0                            1           0.073              1.599   \n",
       "1                            0           0.073              0.026   \n",
       "2                            0           0.073              0.026   \n",
       "3                            0           0.073              1.599   \n",
       "4                            1           0.073              0.026   \n",
       "\n",
       "   loan_percent_income_WOE  person_income_WOE  loan_amnt_WOE  \\\n",
       "0                    2.136             -0.302          0.707   \n",
       "1                   -0.742              3.065         -0.159   \n",
       "2                    2.136              3.065         -0.169   \n",
       "3                    2.136             -0.302          0.707   \n",
       "4                    2.136             -0.027          0.707   \n",
       "\n",
       "   person_emp_length_WOE  cb_person_cred_hist_length_WOE  \n",
       "0                 -0.366                           0.066  \n",
       "1                 -0.225                           0.066  \n",
       "2                  0.160                           0.066  \n",
       "3                  0.160                           0.066  \n",
       "4                 -0.225                           0.031  \n",
       "\n",
       "[5 rows x 34 columns]"
      ]
     },
     "execution_count": 144,
     "metadata": {},
     "output_type": "execute_result"
    }
   ],
   "source": [
    "data.head()"
   ]
  },
  {
   "cell_type": "code",
   "execution_count": 145,
   "id": "896fb558",
   "metadata": {},
   "outputs": [
    {
     "name": "stdout",
     "output_type": "stream",
     "text": [
      "feature: person_age\n",
      "feature: loan_int_rate\n",
      "feature: loan_percent_income\n",
      "feature: person_income\n",
      "feature: loan_amnt\n",
      "feature: person_emp_length\n",
      "feature: cb_person_cred_hist_length\n"
     ]
    }
   ],
   "source": [
    "for feature, woe_info in woe.items():\n",
    "    print('feature:', feature)\n",
    "    data[f'{feature}_WOE'] = pd.cut(data[feature], bins = woe_info['binning'], labels = woe_info['labels'])\n",
    "    data[f'{feature}_WOE'] = data[f'{feature}_WOE'].values.add_categories('Nan').fillna('Nan')\n",
    "    data[f'{feature}_WOE'] = data[f'{feature}_WOE'].replace('Nan', woe_info['nan'])\n",
    "    data[f'{feature}_WOE'] = data[f'{feature}_WOE'].astype(float)\n",
    "    "
   ]
  },
  {
   "cell_type": "code",
   "execution_count": 146,
   "id": "d319e6fd",
   "metadata": {},
   "outputs": [],
   "source": [
    "DictWOE = 'WOE-1.0.0.pkl'\n",
    "\n",
    "with open (DictWOE, 'wb') as f:\n",
    "    pickle.dump(woe, f)"
   ]
  },
  {
   "cell_type": "markdown",
   "id": "51af12a8",
   "metadata": {},
   "source": [
    "## Data Splitting "
   ]
  },
  {
   "cell_type": "markdown",
   "id": "8f61dc77",
   "metadata": {},
   "source": [
    "Because of imbalance dataset, so we use stratify to splitting the dataset"
   ]
  },
  {
   "cell_type": "code",
   "execution_count": 147,
   "id": "14add61e",
   "metadata": {},
   "outputs": [
    {
     "data": {
      "text/html": [
       "<div>\n",
       "<style scoped>\n",
       "    .dataframe tbody tr th:only-of-type {\n",
       "        vertical-align: middle;\n",
       "    }\n",
       "\n",
       "    .dataframe tbody tr th {\n",
       "        vertical-align: top;\n",
       "    }\n",
       "\n",
       "    .dataframe thead th {\n",
       "        text-align: right;\n",
       "    }\n",
       "</style>\n",
       "<table border=\"1\" class=\"dataframe\">\n",
       "  <thead>\n",
       "    <tr style=\"text-align: right;\">\n",
       "      <th></th>\n",
       "      <th>person_age</th>\n",
       "      <th>person_income</th>\n",
       "      <th>person_home_ownership</th>\n",
       "      <th>person_emp_length</th>\n",
       "      <th>loan_intent</th>\n",
       "      <th>loan_grade</th>\n",
       "      <th>loan_amnt</th>\n",
       "      <th>loan_int_rate</th>\n",
       "      <th>loan_status</th>\n",
       "      <th>loan_percent_income</th>\n",
       "      <th>...</th>\n",
       "      <th>loan_grade_F</th>\n",
       "      <th>loan_grade_G</th>\n",
       "      <th>cb_person_default_on_file_Y</th>\n",
       "      <th>person_age_WOE</th>\n",
       "      <th>loan_int_rate_WOE</th>\n",
       "      <th>loan_percent_income_WOE</th>\n",
       "      <th>person_income_WOE</th>\n",
       "      <th>loan_amnt_WOE</th>\n",
       "      <th>person_emp_length_WOE</th>\n",
       "      <th>cb_person_cred_hist_length_WOE</th>\n",
       "    </tr>\n",
       "  </thead>\n",
       "  <tbody>\n",
       "    <tr>\n",
       "      <th>0</th>\n",
       "      <td>22</td>\n",
       "      <td>59000</td>\n",
       "      <td>RENT</td>\n",
       "      <td>123.0</td>\n",
       "      <td>PERSONAL</td>\n",
       "      <td>D</td>\n",
       "      <td>35000</td>\n",
       "      <td>16.02</td>\n",
       "      <td>1</td>\n",
       "      <td>0.59</td>\n",
       "      <td>...</td>\n",
       "      <td>0</td>\n",
       "      <td>0</td>\n",
       "      <td>1</td>\n",
       "      <td>0.073</td>\n",
       "      <td>1.599</td>\n",
       "      <td>2.136</td>\n",
       "      <td>-0.302</td>\n",
       "      <td>0.707</td>\n",
       "      <td>-0.366</td>\n",
       "      <td>0.066</td>\n",
       "    </tr>\n",
       "    <tr>\n",
       "      <th>1</th>\n",
       "      <td>21</td>\n",
       "      <td>9600</td>\n",
       "      <td>OWN</td>\n",
       "      <td>5.0</td>\n",
       "      <td>EDUCATION</td>\n",
       "      <td>B</td>\n",
       "      <td>1000</td>\n",
       "      <td>11.14</td>\n",
       "      <td>0</td>\n",
       "      <td>0.10</td>\n",
       "      <td>...</td>\n",
       "      <td>0</td>\n",
       "      <td>0</td>\n",
       "      <td>0</td>\n",
       "      <td>0.073</td>\n",
       "      <td>0.026</td>\n",
       "      <td>-0.742</td>\n",
       "      <td>3.065</td>\n",
       "      <td>-0.159</td>\n",
       "      <td>-0.225</td>\n",
       "      <td>0.066</td>\n",
       "    </tr>\n",
       "    <tr>\n",
       "      <th>2</th>\n",
       "      <td>25</td>\n",
       "      <td>9600</td>\n",
       "      <td>MORTGAGE</td>\n",
       "      <td>1.0</td>\n",
       "      <td>MEDICAL</td>\n",
       "      <td>C</td>\n",
       "      <td>5500</td>\n",
       "      <td>12.87</td>\n",
       "      <td>1</td>\n",
       "      <td>0.57</td>\n",
       "      <td>...</td>\n",
       "      <td>0</td>\n",
       "      <td>0</td>\n",
       "      <td>0</td>\n",
       "      <td>0.073</td>\n",
       "      <td>0.026</td>\n",
       "      <td>2.136</td>\n",
       "      <td>3.065</td>\n",
       "      <td>-0.169</td>\n",
       "      <td>0.160</td>\n",
       "      <td>0.066</td>\n",
       "    </tr>\n",
       "    <tr>\n",
       "      <th>3</th>\n",
       "      <td>23</td>\n",
       "      <td>65500</td>\n",
       "      <td>RENT</td>\n",
       "      <td>4.0</td>\n",
       "      <td>MEDICAL</td>\n",
       "      <td>C</td>\n",
       "      <td>35000</td>\n",
       "      <td>15.23</td>\n",
       "      <td>1</td>\n",
       "      <td>0.53</td>\n",
       "      <td>...</td>\n",
       "      <td>0</td>\n",
       "      <td>0</td>\n",
       "      <td>0</td>\n",
       "      <td>0.073</td>\n",
       "      <td>1.599</td>\n",
       "      <td>2.136</td>\n",
       "      <td>-0.302</td>\n",
       "      <td>0.707</td>\n",
       "      <td>0.160</td>\n",
       "      <td>0.066</td>\n",
       "    </tr>\n",
       "    <tr>\n",
       "      <th>4</th>\n",
       "      <td>24</td>\n",
       "      <td>54400</td>\n",
       "      <td>RENT</td>\n",
       "      <td>8.0</td>\n",
       "      <td>MEDICAL</td>\n",
       "      <td>C</td>\n",
       "      <td>35000</td>\n",
       "      <td>14.27</td>\n",
       "      <td>1</td>\n",
       "      <td>0.55</td>\n",
       "      <td>...</td>\n",
       "      <td>0</td>\n",
       "      <td>0</td>\n",
       "      <td>1</td>\n",
       "      <td>0.073</td>\n",
       "      <td>0.026</td>\n",
       "      <td>2.136</td>\n",
       "      <td>-0.027</td>\n",
       "      <td>0.707</td>\n",
       "      <td>-0.225</td>\n",
       "      <td>0.031</td>\n",
       "    </tr>\n",
       "  </tbody>\n",
       "</table>\n",
       "<p>5 rows × 34 columns</p>\n",
       "</div>"
      ],
      "text/plain": [
       "   person_age  person_income person_home_ownership  person_emp_length  \\\n",
       "0          22          59000                  RENT              123.0   \n",
       "1          21           9600                   OWN                5.0   \n",
       "2          25           9600              MORTGAGE                1.0   \n",
       "3          23          65500                  RENT                4.0   \n",
       "4          24          54400                  RENT                8.0   \n",
       "\n",
       "  loan_intent loan_grade  loan_amnt  loan_int_rate  loan_status  \\\n",
       "0    PERSONAL          D      35000          16.02            1   \n",
       "1   EDUCATION          B       1000          11.14            0   \n",
       "2     MEDICAL          C       5500          12.87            1   \n",
       "3     MEDICAL          C      35000          15.23            1   \n",
       "4     MEDICAL          C      35000          14.27            1   \n",
       "\n",
       "   loan_percent_income  ... loan_grade_F  loan_grade_G  \\\n",
       "0                 0.59  ...            0             0   \n",
       "1                 0.10  ...            0             0   \n",
       "2                 0.57  ...            0             0   \n",
       "3                 0.53  ...            0             0   \n",
       "4                 0.55  ...            0             0   \n",
       "\n",
       "   cb_person_default_on_file_Y  person_age_WOE  loan_int_rate_WOE  \\\n",
       "0                            1           0.073              1.599   \n",
       "1                            0           0.073              0.026   \n",
       "2                            0           0.073              0.026   \n",
       "3                            0           0.073              1.599   \n",
       "4                            1           0.073              0.026   \n",
       "\n",
       "   loan_percent_income_WOE  person_income_WOE  loan_amnt_WOE  \\\n",
       "0                    2.136             -0.302          0.707   \n",
       "1                   -0.742              3.065         -0.159   \n",
       "2                    2.136              3.065         -0.169   \n",
       "3                    2.136             -0.302          0.707   \n",
       "4                    2.136             -0.027          0.707   \n",
       "\n",
       "   person_emp_length_WOE  cb_person_cred_hist_length_WOE  \n",
       "0                 -0.366                           0.066  \n",
       "1                 -0.225                           0.066  \n",
       "2                  0.160                           0.066  \n",
       "3                  0.160                           0.066  \n",
       "4                 -0.225                           0.031  \n",
       "\n",
       "[5 rows x 34 columns]"
      ]
     },
     "execution_count": 147,
     "metadata": {},
     "output_type": "execute_result"
    }
   ],
   "source": [
    "data.head()"
   ]
  },
  {
   "cell_type": "code",
   "execution_count": 148,
   "id": "78c8bc3a",
   "metadata": {},
   "outputs": [
    {
     "name": "stdout",
     "output_type": "stream",
     "text": [
      "Number of Train : 22691 70.0%\n",
      "Number of Test : 9725 30.0%\n"
     ]
    }
   ],
   "source": [
    "from sklearn.model_selection import train_test_split\n",
    "\n",
    "SEED = 42\n",
    "train = data.drop('loan_status', axis=1)\n",
    "\n",
    "X_train, X_test, y_train, y_test = train_test_split(train, y, test_size=0.3, stratify=y, random_state=SEED)\n",
    "\n",
    "print(\"Number of Train :\", len(y_train), f\"{round(len(y_train) / len(y) * 100, 2)}%\")\n",
    "print(\"Number of Test :\", len(y_test), f\"{round(len(y_test) / len(y) * 100, 2)}%\")"
   ]
  },
  {
   "cell_type": "code",
   "execution_count": 149,
   "id": "76c901a4",
   "metadata": {},
   "outputs": [
    {
     "name": "stdout",
     "output_type": "stream",
     "text": [
      "Percentage of target in Train : 0.2186770085055749\n",
      "Percentage of target in Test : 0.2187146529562982\n"
     ]
    }
   ],
   "source": [
    "print(\"Percentage of target in Train :\", np.mean(y_train))\n",
    "print(\"Percentage of target in Test :\", np.mean(y_test))"
   ]
  },
  {
   "cell_type": "code",
   "execution_count": 150,
   "id": "4aede650",
   "metadata": {},
   "outputs": [
    {
     "data": {
      "text/html": [
       "<div>\n",
       "<style scoped>\n",
       "    .dataframe tbody tr th:only-of-type {\n",
       "        vertical-align: middle;\n",
       "    }\n",
       "\n",
       "    .dataframe tbody tr th {\n",
       "        vertical-align: top;\n",
       "    }\n",
       "\n",
       "    .dataframe thead th {\n",
       "        text-align: right;\n",
       "    }\n",
       "</style>\n",
       "<table border=\"1\" class=\"dataframe\">\n",
       "  <thead>\n",
       "    <tr style=\"text-align: right;\">\n",
       "      <th></th>\n",
       "      <th>person_age</th>\n",
       "      <th>person_income</th>\n",
       "      <th>person_home_ownership</th>\n",
       "      <th>person_emp_length</th>\n",
       "      <th>loan_intent</th>\n",
       "      <th>loan_grade</th>\n",
       "      <th>loan_amnt</th>\n",
       "      <th>loan_int_rate</th>\n",
       "      <th>loan_percent_income</th>\n",
       "      <th>cb_person_default_on_file</th>\n",
       "      <th>...</th>\n",
       "      <th>loan_grade_F</th>\n",
       "      <th>loan_grade_G</th>\n",
       "      <th>cb_person_default_on_file_Y</th>\n",
       "      <th>person_age_WOE</th>\n",
       "      <th>loan_int_rate_WOE</th>\n",
       "      <th>loan_percent_income_WOE</th>\n",
       "      <th>person_income_WOE</th>\n",
       "      <th>loan_amnt_WOE</th>\n",
       "      <th>person_emp_length_WOE</th>\n",
       "      <th>cb_person_cred_hist_length_WOE</th>\n",
       "    </tr>\n",
       "  </thead>\n",
       "  <tbody>\n",
       "    <tr>\n",
       "      <th>7126</th>\n",
       "      <td>25</td>\n",
       "      <td>51684</td>\n",
       "      <td>MORTGAGE</td>\n",
       "      <td>9.0</td>\n",
       "      <td>PERSONAL</td>\n",
       "      <td>D</td>\n",
       "      <td>4000</td>\n",
       "      <td>15.99</td>\n",
       "      <td>0.08</td>\n",
       "      <td>N</td>\n",
       "      <td>...</td>\n",
       "      <td>0</td>\n",
       "      <td>0</td>\n",
       "      <td>0</td>\n",
       "      <td>0.073</td>\n",
       "      <td>1.599</td>\n",
       "      <td>-0.742</td>\n",
       "      <td>-0.027</td>\n",
       "      <td>-0.169</td>\n",
       "      <td>-0.225</td>\n",
       "      <td>0.031</td>\n",
       "    </tr>\n",
       "    <tr>\n",
       "      <th>15645</th>\n",
       "      <td>22</td>\n",
       "      <td>90000</td>\n",
       "      <td>RENT</td>\n",
       "      <td>5.0</td>\n",
       "      <td>MEDICAL</td>\n",
       "      <td>B</td>\n",
       "      <td>15000</td>\n",
       "      <td>11.49</td>\n",
       "      <td>0.17</td>\n",
       "      <td>N</td>\n",
       "      <td>...</td>\n",
       "      <td>0</td>\n",
       "      <td>0</td>\n",
       "      <td>0</td>\n",
       "      <td>0.073</td>\n",
       "      <td>0.026</td>\n",
       "      <td>-0.279</td>\n",
       "      <td>-1.040</td>\n",
       "      <td>0.069</td>\n",
       "      <td>-0.225</td>\n",
       "      <td>0.031</td>\n",
       "    </tr>\n",
       "    <tr>\n",
       "      <th>7626</th>\n",
       "      <td>24</td>\n",
       "      <td>93500</td>\n",
       "      <td>RENT</td>\n",
       "      <td>2.0</td>\n",
       "      <td>VENTURE</td>\n",
       "      <td>C</td>\n",
       "      <td>6400</td>\n",
       "      <td>13.23</td>\n",
       "      <td>0.07</td>\n",
       "      <td>Y</td>\n",
       "      <td>...</td>\n",
       "      <td>0</td>\n",
       "      <td>0</td>\n",
       "      <td>1</td>\n",
       "      <td>0.073</td>\n",
       "      <td>0.026</td>\n",
       "      <td>-0.742</td>\n",
       "      <td>-1.040</td>\n",
       "      <td>-0.169</td>\n",
       "      <td>0.160</td>\n",
       "      <td>0.066</td>\n",
       "    </tr>\n",
       "    <tr>\n",
       "      <th>20390</th>\n",
       "      <td>27</td>\n",
       "      <td>49200</td>\n",
       "      <td>RENT</td>\n",
       "      <td>4.0</td>\n",
       "      <td>DEBTCONSOLIDATION</td>\n",
       "      <td>C</td>\n",
       "      <td>4800</td>\n",
       "      <td>14.65</td>\n",
       "      <td>0.10</td>\n",
       "      <td>N</td>\n",
       "      <td>...</td>\n",
       "      <td>0</td>\n",
       "      <td>0</td>\n",
       "      <td>0</td>\n",
       "      <td>-0.057</td>\n",
       "      <td>0.026</td>\n",
       "      <td>-0.742</td>\n",
       "      <td>-0.027</td>\n",
       "      <td>-0.169</td>\n",
       "      <td>0.160</td>\n",
       "      <td>-0.071</td>\n",
       "    </tr>\n",
       "    <tr>\n",
       "      <th>7969</th>\n",
       "      <td>23</td>\n",
       "      <td>49000</td>\n",
       "      <td>MORTGAGE</td>\n",
       "      <td>7.0</td>\n",
       "      <td>MEDICAL</td>\n",
       "      <td>D</td>\n",
       "      <td>5000</td>\n",
       "      <td>15.21</td>\n",
       "      <td>0.10</td>\n",
       "      <td>N</td>\n",
       "      <td>...</td>\n",
       "      <td>0</td>\n",
       "      <td>0</td>\n",
       "      <td>0</td>\n",
       "      <td>0.073</td>\n",
       "      <td>1.599</td>\n",
       "      <td>-0.742</td>\n",
       "      <td>-0.027</td>\n",
       "      <td>-0.169</td>\n",
       "      <td>-0.225</td>\n",
       "      <td>0.066</td>\n",
       "    </tr>\n",
       "  </tbody>\n",
       "</table>\n",
       "<p>5 rows × 33 columns</p>\n",
       "</div>"
      ],
      "text/plain": [
       "       person_age  person_income person_home_ownership  person_emp_length  \\\n",
       "7126           25          51684              MORTGAGE                9.0   \n",
       "15645          22          90000                  RENT                5.0   \n",
       "7626           24          93500                  RENT                2.0   \n",
       "20390          27          49200                  RENT                4.0   \n",
       "7969           23          49000              MORTGAGE                7.0   \n",
       "\n",
       "             loan_intent loan_grade  loan_amnt  loan_int_rate  \\\n",
       "7126            PERSONAL          D       4000          15.99   \n",
       "15645            MEDICAL          B      15000          11.49   \n",
       "7626             VENTURE          C       6400          13.23   \n",
       "20390  DEBTCONSOLIDATION          C       4800          14.65   \n",
       "7969             MEDICAL          D       5000          15.21   \n",
       "\n",
       "       loan_percent_income cb_person_default_on_file  ...  loan_grade_F  \\\n",
       "7126                  0.08                         N  ...             0   \n",
       "15645                 0.17                         N  ...             0   \n",
       "7626                  0.07                         Y  ...             0   \n",
       "20390                 0.10                         N  ...             0   \n",
       "7969                  0.10                         N  ...             0   \n",
       "\n",
       "       loan_grade_G  cb_person_default_on_file_Y  person_age_WOE  \\\n",
       "7126              0                            0           0.073   \n",
       "15645             0                            0           0.073   \n",
       "7626              0                            1           0.073   \n",
       "20390             0                            0          -0.057   \n",
       "7969              0                            0           0.073   \n",
       "\n",
       "       loan_int_rate_WOE  loan_percent_income_WOE  person_income_WOE  \\\n",
       "7126               1.599                   -0.742             -0.027   \n",
       "15645              0.026                   -0.279             -1.040   \n",
       "7626               0.026                   -0.742             -1.040   \n",
       "20390              0.026                   -0.742             -0.027   \n",
       "7969               1.599                   -0.742             -0.027   \n",
       "\n",
       "       loan_amnt_WOE  person_emp_length_WOE  cb_person_cred_hist_length_WOE  \n",
       "7126          -0.169                 -0.225                           0.031  \n",
       "15645          0.069                 -0.225                           0.031  \n",
       "7626          -0.169                  0.160                           0.066  \n",
       "20390         -0.169                  0.160                          -0.071  \n",
       "7969          -0.169                 -0.225                           0.066  \n",
       "\n",
       "[5 rows x 33 columns]"
      ]
     },
     "execution_count": 150,
     "metadata": {},
     "output_type": "execute_result"
    }
   ],
   "source": [
    "X_train.head()"
   ]
  },
  {
   "cell_type": "code",
   "execution_count": 151,
   "id": "0c53e50f",
   "metadata": {},
   "outputs": [
    {
     "data": {
      "text/plain": [
       "Index(['person_age', 'person_income', 'person_home_ownership',\n",
       "       'person_emp_length', 'loan_intent', 'loan_grade', 'loan_amnt',\n",
       "       'loan_int_rate', 'loan_percent_income', 'cb_person_default_on_file',\n",
       "       'cb_person_cred_hist_length', 'person_home_ownership_OTHER',\n",
       "       'person_home_ownership_OWN', 'person_home_ownership_RENT',\n",
       "       'loan_intent_EDUCATION', 'loan_intent_HOMEIMPROVEMENT',\n",
       "       'loan_intent_MEDICAL', 'loan_intent_PERSONAL', 'loan_intent_VENTURE',\n",
       "       'loan_grade_B', 'loan_grade_C', 'loan_grade_D', 'loan_grade_E',\n",
       "       'loan_grade_F', 'loan_grade_G', 'cb_person_default_on_file_Y',\n",
       "       'person_age_WOE', 'loan_int_rate_WOE', 'loan_percent_income_WOE',\n",
       "       'person_income_WOE', 'loan_amnt_WOE', 'person_emp_length_WOE',\n",
       "       'cb_person_cred_hist_length_WOE'],\n",
       "      dtype='object')"
      ]
     },
     "execution_count": 151,
     "metadata": {},
     "output_type": "execute_result"
    }
   ],
   "source": [
    "X_train.columns"
   ]
  },
  {
   "cell_type": "code",
   "execution_count": 152,
   "id": "d13a209d",
   "metadata": {},
   "outputs": [
    {
     "data": {
      "text/plain": [
       "[{'person_age': 22,\n",
       "  'person_income': 48000,\n",
       "  'person_home_ownership': 'RENT',\n",
       "  'person_emp_length': 0.0,\n",
       "  'loan_intent': 'DEBTCONSOLIDATION',\n",
       "  'loan_grade': 'C',\n",
       "  'loan_amnt': 14400,\n",
       "  'loan_int_rate': 13.49,\n",
       "  'loan_percent_income': 0.3,\n",
       "  'cb_person_default_on_file': 'Y',\n",
       "  'cb_person_cred_hist_length': 2,\n",
       "  'person_home_ownership_OTHER': 0,\n",
       "  'person_home_ownership_OWN': 0,\n",
       "  'person_home_ownership_RENT': 1,\n",
       "  'loan_intent_EDUCATION': 0,\n",
       "  'loan_intent_HOMEIMPROVEMENT': 0,\n",
       "  'loan_intent_MEDICAL': 0,\n",
       "  'loan_intent_PERSONAL': 0,\n",
       "  'loan_intent_VENTURE': 0,\n",
       "  'loan_grade_B': 0,\n",
       "  'loan_grade_C': 1,\n",
       "  'loan_grade_D': 0,\n",
       "  'loan_grade_E': 0,\n",
       "  'loan_grade_F': 0,\n",
       "  'loan_grade_G': 0,\n",
       "  'cb_person_default_on_file_Y': 1,\n",
       "  'person_age_WOE': 0.073,\n",
       "  'loan_int_rate_WOE': 0.026,\n",
       "  'loan_percent_income_WOE': -0.279,\n",
       "  'person_income_WOE': -0.027,\n",
       "  'loan_amnt_WOE': 0.069,\n",
       "  'person_emp_length_WOE': 0.16,\n",
       "  'cb_person_cred_hist_length_WOE': 0.066}]"
      ]
     },
     "execution_count": 152,
     "metadata": {},
     "output_type": "execute_result"
    }
   ],
   "source": [
    "X_train.sample(1).to_dict(orient = 'records')"
   ]
  },
  {
   "cell_type": "code",
   "execution_count": 153,
   "id": "87bbc708",
   "metadata": {},
   "outputs": [],
   "source": [
    "raw_input = {\n",
    "    'person_age': 27,\n",
    "  'person_income': 110000,\n",
    "  'person_home_ownership': 'MORTGAGE',\n",
    "  'person_emp_length': 11.0,\n",
    "  'loan_intent': 'HOMEIMPROVEMENT',\n",
    "  'loan_grade': 'A',\n",
    "  'loan_amnt': 3600,\n",
    "  'loan_int_rate': 6.03,\n",
    "  'loan_status': 0,\n",
    "  'loan_percent_income': 0.03,\n",
    "  'cb_person_default_on_file': 'N',\n",
    "  'cb_person_cred_hist_length': 5,\n",
    "}"
   ]
  },
  {
   "cell_type": "code",
   "execution_count": 154,
   "id": "2314065d",
   "metadata": {},
   "outputs": [
    {
     "data": {
      "text/html": [
       "<div>\n",
       "<style scoped>\n",
       "    .dataframe tbody tr th:only-of-type {\n",
       "        vertical-align: middle;\n",
       "    }\n",
       "\n",
       "    .dataframe tbody tr th {\n",
       "        vertical-align: top;\n",
       "    }\n",
       "\n",
       "    .dataframe thead th {\n",
       "        text-align: right;\n",
       "    }\n",
       "</style>\n",
       "<table border=\"1\" class=\"dataframe\">\n",
       "  <thead>\n",
       "    <tr style=\"text-align: right;\">\n",
       "      <th></th>\n",
       "      <th>person_age</th>\n",
       "      <th>person_income</th>\n",
       "      <th>person_home_ownership</th>\n",
       "      <th>person_emp_length</th>\n",
       "      <th>loan_intent</th>\n",
       "      <th>loan_grade</th>\n",
       "      <th>loan_amnt</th>\n",
       "      <th>loan_int_rate</th>\n",
       "      <th>loan_status</th>\n",
       "      <th>loan_percent_income</th>\n",
       "      <th>cb_person_default_on_file</th>\n",
       "      <th>cb_person_cred_hist_length</th>\n",
       "    </tr>\n",
       "  </thead>\n",
       "  <tbody>\n",
       "    <tr>\n",
       "      <th>0</th>\n",
       "      <td>27</td>\n",
       "      <td>110000</td>\n",
       "      <td>MORTGAGE</td>\n",
       "      <td>11.0</td>\n",
       "      <td>HOMEIMPROVEMENT</td>\n",
       "      <td>A</td>\n",
       "      <td>3600</td>\n",
       "      <td>6.03</td>\n",
       "      <td>0</td>\n",
       "      <td>0.03</td>\n",
       "      <td>N</td>\n",
       "      <td>5</td>\n",
       "    </tr>\n",
       "  </tbody>\n",
       "</table>\n",
       "</div>"
      ],
      "text/plain": [
       "   person_age  person_income person_home_ownership  person_emp_length  \\\n",
       "0          27         110000              MORTGAGE               11.0   \n",
       "\n",
       "       loan_intent loan_grade  loan_amnt  loan_int_rate  loan_status  \\\n",
       "0  HOMEIMPROVEMENT          A       3600           6.03            0   \n",
       "\n",
       "   loan_percent_income cb_person_default_on_file  cb_person_cred_hist_length  \n",
       "0                 0.03                         N                           5  "
      ]
     },
     "execution_count": 154,
     "metadata": {},
     "output_type": "execute_result"
    }
   ],
   "source": [
    "pd.DataFrame.from_dict(raw_input, orient = 'index').T.replace({None : np.nan, \"null\" : np.nan, \"\" : np.nan})"
   ]
  },
  {
   "cell_type": "code",
   "execution_count": 155,
   "id": "ed9a7b19",
   "metadata": {},
   "outputs": [
    {
     "data": {
      "text/plain": [
       "Index(['person_age', 'person_income', 'person_home_ownership',\n",
       "       'person_emp_length', 'loan_intent', 'loan_grade', 'loan_amnt',\n",
       "       'loan_int_rate', 'loan_percent_income', 'cb_person_default_on_file',\n",
       "       'cb_person_cred_hist_length', 'person_home_ownership_OTHER',\n",
       "       'person_home_ownership_OWN', 'person_home_ownership_RENT',\n",
       "       'loan_intent_EDUCATION', 'loan_intent_HOMEIMPROVEMENT',\n",
       "       'loan_intent_MEDICAL', 'loan_intent_PERSONAL', 'loan_intent_VENTURE',\n",
       "       'loan_grade_B', 'loan_grade_C', 'loan_grade_D', 'loan_grade_E',\n",
       "       'loan_grade_F', 'loan_grade_G', 'cb_person_default_on_file_Y',\n",
       "       'person_age_WOE', 'loan_int_rate_WOE', 'loan_percent_income_WOE',\n",
       "       'person_income_WOE', 'loan_amnt_WOE', 'person_emp_length_WOE',\n",
       "       'cb_person_cred_hist_length_WOE'],\n",
       "      dtype='object')"
      ]
     },
     "execution_count": 155,
     "metadata": {},
     "output_type": "execute_result"
    }
   ],
   "source": [
    "X_train.columns"
   ]
  },
  {
   "cell_type": "code",
   "execution_count": 156,
   "id": "bf28498a",
   "metadata": {},
   "outputs": [],
   "source": [
    "woe_features = ['person_age_WOE', 'loan_int_rate_WOE', 'loan_percent_income_WOE',\n",
    "                'person_income_WOE', 'loan_amnt_WOE', 'person_emp_length_WOE',\n",
    "                'cb_person_cred_hist_length_WOE']\n",
    "\n",
    "cat_features = ['person_home_ownership_OTHER', 'person_home_ownership_OWN',\n",
    "       'person_home_ownership_RENT', 'loan_intent_EDUCATION',\n",
    "       'loan_intent_HOMEIMPROVEMENT', 'loan_intent_MEDICAL',\n",
    "       'loan_intent_PERSONAL', 'loan_intent_VENTURE', 'loan_grade_B',\n",
    "       'loan_grade_C', 'loan_grade_D', 'loan_grade_E', 'loan_grade_F',\n",
    "       'loan_grade_G', 'cb_person_default_on_file_Y']\n"
   ]
  },
  {
   "cell_type": "code",
   "execution_count": 157,
   "id": "036e3f42",
   "metadata": {},
   "outputs": [
    {
     "name": "stdout",
     "output_type": "stream",
     "text": [
      "['person_home_ownership_OTHER', 'person_home_ownership_OWN', 'person_home_ownership_RENT', 'loan_intent_EDUCATION', 'loan_intent_HOMEIMPROVEMENT', 'loan_intent_MEDICAL', 'loan_intent_PERSONAL', 'loan_intent_VENTURE', 'loan_grade_B', 'loan_grade_C', 'loan_grade_D', 'loan_grade_E', 'loan_grade_F', 'loan_grade_G', 'cb_person_default_on_file_Y', 'person_age_WOE', 'loan_int_rate_WOE', 'loan_percent_income_WOE', 'person_income_WOE', 'loan_amnt_WOE', 'person_emp_length_WOE', 'cb_person_cred_hist_length_WOE']\n"
     ]
    }
   ],
   "source": [
    "all_features = cat_features + woe_features\n",
    "print(all_features)"
   ]
  },
  {
   "cell_type": "markdown",
   "id": "b6f23946",
   "metadata": {},
   "source": [
    "## Train model"
   ]
  },
  {
   "cell_type": "code",
   "execution_count": 158,
   "id": "1ee3beb0",
   "metadata": {},
   "outputs": [
    {
     "data": {
      "text/plain": [
       "LogisticRegression(max_iter=1000, random_state=42)"
      ]
     },
     "execution_count": 158,
     "metadata": {},
     "output_type": "execute_result"
    }
   ],
   "source": [
    "from sklearn.linear_model import LogisticRegression  \n",
    "from sklearn.metrics import roc_auc_score\n",
    "\n",
    "lr = LogisticRegression(random_state=SEED, max_iter=1000)\n",
    "lr.fit(X_train[all_features], y_train)"
   ]
  },
  {
   "cell_type": "code",
   "execution_count": 159,
   "id": "89644efb",
   "metadata": {},
   "outputs": [],
   "source": [
    "yhat_train = lr.predict_proba(X_train[all_features])[:, 1]\n",
    "yhat_test = lr.predict_proba(X_test[all_features])[:, 1]"
   ]
  },
  {
   "cell_type": "code",
   "execution_count": 160,
   "id": "d618dda8",
   "metadata": {},
   "outputs": [
    {
     "name": "stdout",
     "output_type": "stream",
     "text": [
      "ROC-AUC Score Train: 0.8810222397764325\n",
      "ROC-AUC Score Test: 0.8804471594670265\n"
     ]
    }
   ],
   "source": [
    "# buat lihat predictive power\n",
    "\n",
    "print(\"ROC-AUC Score Train:\", roc_auc_score(y_train, yhat_train))\n",
    "print(\"ROC-AUC Score Test:\", roc_auc_score(y_test, yhat_test))"
   ]
  },
  {
   "cell_type": "code",
   "execution_count": 161,
   "id": "98c429b7",
   "metadata": {},
   "outputs": [],
   "source": [
    "# https://stackoverflow.com/questions/28719067/roc-curve-and-cut-off-point-python\n",
    "def get_optimal_cutoff(tpr, fpr, thresholds):\n",
    "    i = np.arange(len(tpr)) # index for df\n",
    "    roc = pd.DataFrame({\n",
    "        'fpr' : pd.Series(fpr, index=i),\n",
    "        'tpr' : pd.Series(tpr, index = i), \n",
    "        '1-fpr' : pd.Series(1-fpr, index = i), \n",
    "        'tf' : pd.Series(tpr - (1-fpr), index = i), \n",
    "        'thresholds' : pd.Series(thresholds, index = i)})\n",
    "    \n",
    "    print(roc.iloc[[(roc.tf-0).abs().argmin()]])\n",
    "\n",
    "    # Plot tpr vs 1-fpr\n",
    "    fig, ax = plt.subplots()\n",
    "    _ = plt.plot(roc['tpr'])\n",
    "    _ = plt.plot(roc['1-fpr'], color = 'red')\n",
    "    _ = plt.xlabel('1-False Positive Rate')\n",
    "    _ = plt.ylabel('True Positive Rate')\n",
    "    _ = plt.title('Receiver operating characteristic')\n",
    "    _ = ax.set_xticklabels([])\n",
    "    \n",
    "    \n",
    "def plot_roc_auc(tpr, fpr, labels):\n",
    "    \n",
    "    if (isinstance(tpr, (list, np.array)) and isinstance(fpr, (list, np.array))):\n",
    "        \n",
    "        nlist = len(tpr)\n",
    "        \n",
    "        if all(len(val) == nlist for val in [tpr, fpr, labels]):\n",
    "            pass\n",
    "        else:\n",
    "            raise ValueError('length of parameter should be the same')\n",
    "               \n",
    "        fig, ax = plt.subplots(figsize=(8, 6.5))\n",
    "        _ = sns.despine(ax=ax)\n",
    "        _ = ax.plot([0, 1], [0, 1], color='navy', linestyle='--')\n",
    "        _ = ax.set_xlim([0.0, 1.0])\n",
    "        _ = ax.set_ylim([0.0, 1.05])\n",
    "        _ = ax.set_xlabel('False Positive Rate')\n",
    "        _ = ax.set_ylabel('True Positive Rate')\n",
    "        _ = ax.set_title('Receiver operating characteristic example')\n",
    "        \n",
    "        for i in range(nlist):\n",
    "        \n",
    "            roc_auc = auc(fpr[i], tpr[i])\n",
    "            _ = ax.plot(\n",
    "                fpr[i], \n",
    "                tpr[i], \n",
    "                label=f'ROC curve {labels[i]} (area = {roc_auc: 0.2f}'\n",
    "            )\n",
    "        \n",
    "        _ = fig.legend(loc=\"right\")\n",
    "        \n",
    "    else:\n",
    "        roc_auc = auc(fpr, tpr)\n",
    "        \n",
    "        fig, ax = plt.subplots(figsize=(8, 6.5))\n",
    "        _ = sns.despine(ax=ax)\n",
    "        _ = ax.plot([0, 1], [0, 1], color='navy', linestyle='--')\n",
    "        _ = ax.set_xlim([0.0, 1.0])\n",
    "        _ = ax.set_ylim([0.0, 1.05])\n",
    "        _ = ax.set_xlabel('False Positive Rate')\n",
    "        _ = ax.set_ylabel('True Positive Rate')\n",
    "        _ = ax.set_title('Receiver operating characteristic example')\n",
    "        _ = ax.plot(\n",
    "            fpr, \n",
    "            tpr, \n",
    "            label=f'ROC curve {labels} (area = {roc_auc: 0.2f}'\n",
    "        )\n",
    "        \n",
    "    _ = fig.legend(loc=\"right\")"
   ]
  },
  {
   "cell_type": "code",
   "execution_count": 162,
   "id": "4b67e44c",
   "metadata": {},
   "outputs": [
    {
     "name": "stdout",
     "output_type": "stream",
     "text": [
      "ROC-AUC TRAIN 0.8810222397764325\n",
      "ROC-AUC TEST 0.8804471594670265\n"
     ]
    }
   ],
   "source": [
    "from sklearn.metrics import roc_curve, auc, roc_auc_score, classification_report\n",
    "\n",
    "fpr_train, tpr_train, thresholds_train =roc_curve(y_train, \n",
    "                                                  yhat_train)\n",
    "fpr_test, tpr_test, thresholds_test =roc_curve(y_test, \n",
    "                                               yhat_test)\n",
    "\n",
    "roc_auc_train = auc(fpr_train, tpr_train)\n",
    "roc_auc_test = auc(fpr_test, tpr_test)\n",
    "\n",
    "print(\"ROC-AUC TRAIN\", roc_auc_train)\n",
    "print(\"ROC-AUC TEST\", roc_auc_test)\n",
    "\n",
    "#kenapa ada roc auc lagi, buat ngebuktiin aja hasilnya sama kaya di atas walaupun pakai fungsinya beda"
   ]
  },
  {
   "cell_type": "code",
   "execution_count": 163,
   "id": "0cfd1071",
   "metadata": {},
   "outputs": [
    {
     "name": "stdout",
     "output_type": "stream",
     "text": [
      "           fpr      tpr     1-fpr        tf  thresholds\n",
      "1271  0.194525  0.80536  0.805475 -0.000115    0.189765\n"
     ]
    },
    {
     "data": {
      "image/png": "[encoded data removed]",
      "text/plain": [
       "<Figure size 432x288 with 1 Axes>"
      ]
     },
     "metadata": {
      "needs_background": "light"
     },
     "output_type": "display_data"
    }
   ],
   "source": [
    "tpr = tpr_test\n",
    "fpr = fpr_test\n",
    "\n",
    "thresholds = thresholds_test\n",
    "get_optimal_cutoff(tpr, fpr, thresholds)"
   ]
  },
  {
   "cell_type": "code",
   "execution_count": 164,
   "id": "1e27ac81",
   "metadata": {},
   "outputs": [
    {
     "name": "stdout",
     "output_type": "stream",
     "text": [
      "              precision    recall  f1-score   support\n",
      "\n",
      "           0       0.94      0.81      0.87      7598\n",
      "           1       0.54      0.81      0.64      2127\n",
      "\n",
      "    accuracy                           0.81      9725\n",
      "   macro avg       0.74      0.81      0.76      9725\n",
      "weighted avg       0.85      0.81      0.82      9725\n",
      "\n"
     ]
    }
   ],
   "source": [
    "threshold = 0.189765 #bisa dipilih terserah kita, tapi di atas ketemu optimumnya berapa\n",
    "\n",
    "y_pred_train = np.where(yhat_train > threshold, 1, 0)\n",
    "y_pred_test = np.where(yhat_test> threshold, 1, 0)\n",
    "\n",
    "print(classification_report(y_test, \n",
    "                            y_pred_test))"
   ]
  },
  {
   "cell_type": "code",
   "execution_count": 171,
   "id": "171a70e6",
   "metadata": {},
   "outputs": [],
   "source": [
    "from sklearn.utils.fixes import loguniform\n",
    "from sklearn.linear_model import LogisticRegression  \n",
    "from sklearn.model_selection import GridSearchCV\n",
    "\n",
    "lr = LogisticRegression(random_state=SEED)\n",
    "\n",
    "param_space = {\n",
    "    \"C\": [0.0001, 0.001, 0.01, 0.1, 1, 10, 100, 1000], #skala log, ini juga bisa pakai np.range\n",
    "    \"max_iter\": [1000],\n",
    "    \"random_state\": [SEED]\n",
    "}\n",
    "\n",
    "clf = GridSearchCV(lr, \n",
    "                   param_space, \n",
    "                   scoring='roc_auc', \n",
    "                   cv=4, \n",
    "                   refit=True)"
   ]
  },
  {
   "cell_type": "code",
   "execution_count": 172,
   "id": "79c9d9ab",
   "metadata": {},
   "outputs": [
    {
     "data": {
      "text/plain": [
       "GridSearchCV(cv=4, estimator=LogisticRegression(random_state=42),\n",
       "             param_grid={'C': [0.0001, 0.001, 0.01, 0.1, 1, 10, 100, 1000],\n",
       "                         'max_iter': [1000], 'random_state': [42]},\n",
       "             scoring='roc_auc')"
      ]
     },
     "execution_count": 172,
     "metadata": {},
     "output_type": "execute_result"
    }
   ],
   "source": [
    "clf.fit(X_train[all_features], y_train)"
   ]
  },
  {
   "cell_type": "code",
   "execution_count": 173,
   "id": "ab6abc3c",
   "metadata": {},
   "outputs": [
    {
     "data": {
      "text/plain": [
       "{'C': 1000, 'max_iter': 1000, 'random_state': 42}"
      ]
     },
     "execution_count": 173,
     "metadata": {},
     "output_type": "execute_result"
    }
   ],
   "source": [
    "clf.best_params_"
   ]
  },
  {
   "cell_type": "code",
   "execution_count": 174,
   "id": "6bbcdc01",
   "metadata": {},
   "outputs": [
    {
     "data": {
      "text/plain": [
       "LogisticRegression(C=1000, max_iter=1000, random_state=42)"
      ]
     },
     "execution_count": 174,
     "metadata": {},
     "output_type": "execute_result"
    }
   ],
   "source": [
    "model = LogisticRegression(random_state=SEED, max_iter=1000, C = 1000)\n",
    "model.fit(X_train[all_features], y_train)"
   ]
  },
  {
   "cell_type": "code",
   "execution_count": 175,
   "id": "ca72b425",
   "metadata": {},
   "outputs": [],
   "source": [
    "yhat_train = model.predict_proba(X_train[all_features])[:, 1]\n",
    "yhat_test = model.predict_proba(X_test[all_features])[:, 1]"
   ]
  },
  {
   "cell_type": "code",
   "execution_count": 176,
   "id": "79c517c2",
   "metadata": {},
   "outputs": [
    {
     "name": "stdout",
     "output_type": "stream",
     "text": [
      "ROC-AUC Score Train: 0.8811588979851133\n",
      "ROC-AUC Score Test: 0.8805695532922392\n"
     ]
    }
   ],
   "source": [
    "print(\"ROC-AUC Score Train:\", roc_auc_score(y_train, yhat_train))\n",
    "print(\"ROC-AUC Score Test:\", roc_auc_score(y_test, yhat_test))"
   ]
  },
  {
   "cell_type": "code",
   "execution_count": 177,
   "id": "061e1bec",
   "metadata": {},
   "outputs": [],
   "source": [
    "from sklearn.utils.fixes import loguniform\n",
    "from sklearn.ensemble import RandomForestClassifier \n",
    "from sklearn.model_selection import GridSearchCV\n",
    "\n",
    "rf = RandomForestClassifier(random_state=SEED)\n",
    "\n",
    "param_space = {\n",
    "    \"n_estimators\": [10,20,25],\n",
    "    \"max_depth\": [2, 3, 4],\n",
    "    \"random_state\": [SEED]\n",
    "}\n",
    "\n",
    "clf_rf = GridSearchCV(rf, \n",
    "                   param_space, \n",
    "                   scoring='roc_auc', \n",
    "                   cv=4, \n",
    "                   refit=True)"
   ]
  },
  {
   "cell_type": "code",
   "execution_count": 178,
   "id": "5a9125a6",
   "metadata": {},
   "outputs": [
    {
     "data": {
      "text/plain": [
       "GridSearchCV(cv=4, estimator=RandomForestClassifier(random_state=42),\n",
       "             param_grid={'max_depth': [2, 3, 4], 'n_estimators': [10, 20, 25],\n",
       "                         'random_state': [42]},\n",
       "             scoring='roc_auc')"
      ]
     },
     "execution_count": 178,
     "metadata": {},
     "output_type": "execute_result"
    }
   ],
   "source": [
    "clf_rf.fit(X_train[all_features], y_train)"
   ]
  },
  {
   "cell_type": "code",
   "execution_count": 179,
   "id": "06fb36a4",
   "metadata": {},
   "outputs": [
    {
     "data": {
      "text/plain": [
       "{'max_depth': 4, 'n_estimators': 25, 'random_state': 42}"
      ]
     },
     "execution_count": 179,
     "metadata": {},
     "output_type": "execute_result"
    }
   ],
   "source": [
    "clf_rf.best_params_"
   ]
  },
  {
   "cell_type": "code",
   "execution_count": 180,
   "id": "7c867c9f",
   "metadata": {},
   "outputs": [
    {
     "data": {
      "text/plain": [
       "RandomForestClassifier(max_depth=4, n_estimators=25, random_state=42)"
      ]
     },
     "execution_count": 180,
     "metadata": {},
     "output_type": "execute_result"
    }
   ],
   "source": [
    "modelrf = RandomForestClassifier(random_state=SEED, n_estimators=25, max_depth = 4)\n",
    "modelrf.fit(X_train[all_features], y_train)"
   ]
  },
  {
   "cell_type": "code",
   "execution_count": 189,
   "id": "5833934d",
   "metadata": {},
   "outputs": [],
   "source": [
    "yhat_train = modelrf.predict_proba(X_train[all_features])[:,1]\n",
    "yhat_test = modelrf.predict_proba(X_test[all_features])[:,1]"
   ]
  },
  {
   "cell_type": "code",
   "execution_count": 190,
   "id": "b4ea3a3e",
   "metadata": {},
   "outputs": [
    {
     "data": {
      "text/plain": [
       "array([0.40599089, 0.12757667, 0.16162125, ..., 0.26601045, 0.086687  ,\n",
       "       0.25193003])"
      ]
     },
     "execution_count": 190,
     "metadata": {},
     "output_type": "execute_result"
    }
   ],
   "source": [
    "yhat_train"
   ]
  },
  {
   "cell_type": "code",
   "execution_count": null,
   "id": "af5ef4e1",
   "metadata": {},
   "outputs": [],
   "source": [
    "float(0.4059)"
   ]
  },
  {
   "cell_type": "code",
   "execution_count": 191,
   "id": "5a6012be",
   "metadata": {},
   "outputs": [
    {
     "name": "stdout",
     "output_type": "stream",
     "text": [
      "ROC-AUC Score Train RF: 0.881497644834114\n",
      "ROC-AUC Score Test RF: 0.8809365181963977\n"
     ]
    }
   ],
   "source": [
    "print(\"ROC-AUC Score Train RF:\", roc_auc_score(y_train, yhat_train))\n",
    "print(\"ROC-AUC Score Test RF:\", roc_auc_score(y_test, yhat_test))"
   ]
  },
  {
   "cell_type": "markdown",
   "id": "9218c971",
   "metadata": {},
   "source": [
    "dengan menggunakan random forest diperoleh hasil yang lebih bagus"
   ]
  },
  {
   "cell_type": "code",
   "execution_count": 192,
   "id": "a1c6ea77",
   "metadata": {},
   "outputs": [],
   "source": [
    "import pickle \n",
    "\n",
    "#namanya bisa diubah kok\n",
    "MODELNAME = 'Mei-RF-1.0.0.pkl'\n",
    "\n",
    "with open(MODELNAME, 'wb') as f: # save model\n",
    "    pickle.dump(modelrf, f)\n",
    "    "
   ]
  },
  {
   "cell_type": "code",
   "execution_count": 193,
   "id": "1b28a9f3",
   "metadata": {},
   "outputs": [],
   "source": [
    "data = pd.DataFrame(data)"
   ]
  },
  {
   "cell_type": "code",
   "execution_count": 194,
   "id": "737e7b91",
   "metadata": {},
   "outputs": [
    {
     "data": {
      "text/html": [
       "<div>\n",
       "<style scoped>\n",
       "    .dataframe tbody tr th:only-of-type {\n",
       "        vertical-align: middle;\n",
       "    }\n",
       "\n",
       "    .dataframe tbody tr th {\n",
       "        vertical-align: top;\n",
       "    }\n",
       "\n",
       "    .dataframe thead th {\n",
       "        text-align: right;\n",
       "    }\n",
       "</style>\n",
       "<table border=\"1\" class=\"dataframe\">\n",
       "  <thead>\n",
       "    <tr style=\"text-align: right;\">\n",
       "      <th></th>\n",
       "      <th>person_age</th>\n",
       "      <th>person_income</th>\n",
       "      <th>person_home_ownership</th>\n",
       "      <th>person_emp_length</th>\n",
       "      <th>loan_intent</th>\n",
       "      <th>loan_grade</th>\n",
       "      <th>loan_amnt</th>\n",
       "      <th>loan_int_rate</th>\n",
       "      <th>loan_status</th>\n",
       "      <th>loan_percent_income</th>\n",
       "      <th>...</th>\n",
       "      <th>loan_grade_F</th>\n",
       "      <th>loan_grade_G</th>\n",
       "      <th>cb_person_default_on_file_Y</th>\n",
       "      <th>person_age_WOE</th>\n",
       "      <th>loan_int_rate_WOE</th>\n",
       "      <th>loan_percent_income_WOE</th>\n",
       "      <th>person_income_WOE</th>\n",
       "      <th>loan_amnt_WOE</th>\n",
       "      <th>person_emp_length_WOE</th>\n",
       "      <th>cb_person_cred_hist_length_WOE</th>\n",
       "    </tr>\n",
       "  </thead>\n",
       "  <tbody>\n",
       "    <tr>\n",
       "      <th>0</th>\n",
       "      <td>22</td>\n",
       "      <td>59000</td>\n",
       "      <td>RENT</td>\n",
       "      <td>123.0</td>\n",
       "      <td>PERSONAL</td>\n",
       "      <td>D</td>\n",
       "      <td>35000</td>\n",
       "      <td>16.02</td>\n",
       "      <td>1</td>\n",
       "      <td>0.59</td>\n",
       "      <td>...</td>\n",
       "      <td>0</td>\n",
       "      <td>0</td>\n",
       "      <td>1</td>\n",
       "      <td>0.073</td>\n",
       "      <td>1.599</td>\n",
       "      <td>2.136</td>\n",
       "      <td>-0.302</td>\n",
       "      <td>0.707</td>\n",
       "      <td>-0.366</td>\n",
       "      <td>0.066</td>\n",
       "    </tr>\n",
       "    <tr>\n",
       "      <th>1</th>\n",
       "      <td>21</td>\n",
       "      <td>9600</td>\n",
       "      <td>OWN</td>\n",
       "      <td>5.0</td>\n",
       "      <td>EDUCATION</td>\n",
       "      <td>B</td>\n",
       "      <td>1000</td>\n",
       "      <td>11.14</td>\n",
       "      <td>0</td>\n",
       "      <td>0.10</td>\n",
       "      <td>...</td>\n",
       "      <td>0</td>\n",
       "      <td>0</td>\n",
       "      <td>0</td>\n",
       "      <td>0.073</td>\n",
       "      <td>0.026</td>\n",
       "      <td>-0.742</td>\n",
       "      <td>3.065</td>\n",
       "      <td>-0.159</td>\n",
       "      <td>-0.225</td>\n",
       "      <td>0.066</td>\n",
       "    </tr>\n",
       "    <tr>\n",
       "      <th>2</th>\n",
       "      <td>25</td>\n",
       "      <td>9600</td>\n",
       "      <td>MORTGAGE</td>\n",
       "      <td>1.0</td>\n",
       "      <td>MEDICAL</td>\n",
       "      <td>C</td>\n",
       "      <td>5500</td>\n",
       "      <td>12.87</td>\n",
       "      <td>1</td>\n",
       "      <td>0.57</td>\n",
       "      <td>...</td>\n",
       "      <td>0</td>\n",
       "      <td>0</td>\n",
       "      <td>0</td>\n",
       "      <td>0.073</td>\n",
       "      <td>0.026</td>\n",
       "      <td>2.136</td>\n",
       "      <td>3.065</td>\n",
       "      <td>-0.169</td>\n",
       "      <td>0.160</td>\n",
       "      <td>0.066</td>\n",
       "    </tr>\n",
       "    <tr>\n",
       "      <th>3</th>\n",
       "      <td>23</td>\n",
       "      <td>65500</td>\n",
       "      <td>RENT</td>\n",
       "      <td>4.0</td>\n",
       "      <td>MEDICAL</td>\n",
       "      <td>C</td>\n",
       "      <td>35000</td>\n",
       "      <td>15.23</td>\n",
       "      <td>1</td>\n",
       "      <td>0.53</td>\n",
       "      <td>...</td>\n",
       "      <td>0</td>\n",
       "      <td>0</td>\n",
       "      <td>0</td>\n",
       "      <td>0.073</td>\n",
       "      <td>1.599</td>\n",
       "      <td>2.136</td>\n",
       "      <td>-0.302</td>\n",
       "      <td>0.707</td>\n",
       "      <td>0.160</td>\n",
       "      <td>0.066</td>\n",
       "    </tr>\n",
       "    <tr>\n",
       "      <th>4</th>\n",
       "      <td>24</td>\n",
       "      <td>54400</td>\n",
       "      <td>RENT</td>\n",
       "      <td>8.0</td>\n",
       "      <td>MEDICAL</td>\n",
       "      <td>C</td>\n",
       "      <td>35000</td>\n",
       "      <td>14.27</td>\n",
       "      <td>1</td>\n",
       "      <td>0.55</td>\n",
       "      <td>...</td>\n",
       "      <td>0</td>\n",
       "      <td>0</td>\n",
       "      <td>1</td>\n",
       "      <td>0.073</td>\n",
       "      <td>0.026</td>\n",
       "      <td>2.136</td>\n",
       "      <td>-0.027</td>\n",
       "      <td>0.707</td>\n",
       "      <td>-0.225</td>\n",
       "      <td>0.031</td>\n",
       "    </tr>\n",
       "  </tbody>\n",
       "</table>\n",
       "<p>5 rows × 34 columns</p>\n",
       "</div>"
      ],
      "text/plain": [
       "   person_age  person_income person_home_ownership  person_emp_length  \\\n",
       "0          22          59000                  RENT              123.0   \n",
       "1          21           9600                   OWN                5.0   \n",
       "2          25           9600              MORTGAGE                1.0   \n",
       "3          23          65500                  RENT                4.0   \n",
       "4          24          54400                  RENT                8.0   \n",
       "\n",
       "  loan_intent loan_grade  loan_amnt  loan_int_rate  loan_status  \\\n",
       "0    PERSONAL          D      35000          16.02            1   \n",
       "1   EDUCATION          B       1000          11.14            0   \n",
       "2     MEDICAL          C       5500          12.87            1   \n",
       "3     MEDICAL          C      35000          15.23            1   \n",
       "4     MEDICAL          C      35000          14.27            1   \n",
       "\n",
       "   loan_percent_income  ... loan_grade_F  loan_grade_G  \\\n",
       "0                 0.59  ...            0             0   \n",
       "1                 0.10  ...            0             0   \n",
       "2                 0.57  ...            0             0   \n",
       "3                 0.53  ...            0             0   \n",
       "4                 0.55  ...            0             0   \n",
       "\n",
       "   cb_person_default_on_file_Y  person_age_WOE  loan_int_rate_WOE  \\\n",
       "0                            1           0.073              1.599   \n",
       "1                            0           0.073              0.026   \n",
       "2                            0           0.073              0.026   \n",
       "3                            0           0.073              1.599   \n",
       "4                            1           0.073              0.026   \n",
       "\n",
       "   loan_percent_income_WOE  person_income_WOE  loan_amnt_WOE  \\\n",
       "0                    2.136             -0.302          0.707   \n",
       "1                   -0.742              3.065         -0.159   \n",
       "2                    2.136              3.065         -0.169   \n",
       "3                    2.136             -0.302          0.707   \n",
       "4                    2.136             -0.027          0.707   \n",
       "\n",
       "   person_emp_length_WOE  cb_person_cred_hist_length_WOE  \n",
       "0                 -0.366                           0.066  \n",
       "1                 -0.225                           0.066  \n",
       "2                  0.160                           0.066  \n",
       "3                  0.160                           0.066  \n",
       "4                 -0.225                           0.031  \n",
       "\n",
       "[5 rows x 34 columns]"
      ]
     },
     "execution_count": 194,
     "metadata": {},
     "output_type": "execute_result"
    }
   ],
   "source": [
    "data.head()"
   ]
  },
  {
   "cell_type": "code",
   "execution_count": 195,
   "id": "99c8a1de",
   "metadata": {},
   "outputs": [],
   "source": [
    "X_train.loc[:, 'Risk'] = y_train\n",
    "X_train.loc[:, 'score_proba'] = yhat_train\n",
    "X_test.loc[:, 'Risk'] = y_test\n",
    "X_test.loc[:, 'score_proba'] = yhat_test"
   ]
  },
  {
   "cell_type": "code",
   "execution_count": 196,
   "id": "a197459f",
   "metadata": {},
   "outputs": [
    {
     "data": {
      "text/html": [
       "<div>\n",
       "<style scoped>\n",
       "    .dataframe tbody tr th:only-of-type {\n",
       "        vertical-align: middle;\n",
       "    }\n",
       "\n",
       "    .dataframe tbody tr th {\n",
       "        vertical-align: top;\n",
       "    }\n",
       "\n",
       "    .dataframe thead th {\n",
       "        text-align: right;\n",
       "    }\n",
       "</style>\n",
       "<table border=\"1\" class=\"dataframe\">\n",
       "  <thead>\n",
       "    <tr style=\"text-align: right;\">\n",
       "      <th></th>\n",
       "      <th>person_age</th>\n",
       "      <th>person_income</th>\n",
       "      <th>person_home_ownership</th>\n",
       "      <th>person_emp_length</th>\n",
       "      <th>loan_intent</th>\n",
       "      <th>loan_grade</th>\n",
       "      <th>loan_amnt</th>\n",
       "      <th>loan_int_rate</th>\n",
       "      <th>loan_percent_income</th>\n",
       "      <th>cb_person_default_on_file</th>\n",
       "      <th>...</th>\n",
       "      <th>cb_person_default_on_file_Y</th>\n",
       "      <th>person_age_WOE</th>\n",
       "      <th>loan_int_rate_WOE</th>\n",
       "      <th>loan_percent_income_WOE</th>\n",
       "      <th>person_income_WOE</th>\n",
       "      <th>loan_amnt_WOE</th>\n",
       "      <th>person_emp_length_WOE</th>\n",
       "      <th>cb_person_cred_hist_length_WOE</th>\n",
       "      <th>Risk</th>\n",
       "      <th>score_proba</th>\n",
       "    </tr>\n",
       "  </thead>\n",
       "  <tbody>\n",
       "    <tr>\n",
       "      <th>7126</th>\n",
       "      <td>25</td>\n",
       "      <td>51684</td>\n",
       "      <td>MORTGAGE</td>\n",
       "      <td>9.0</td>\n",
       "      <td>PERSONAL</td>\n",
       "      <td>D</td>\n",
       "      <td>4000</td>\n",
       "      <td>15.99</td>\n",
       "      <td>0.08</td>\n",
       "      <td>N</td>\n",
       "      <td>...</td>\n",
       "      <td>0</td>\n",
       "      <td>0.073</td>\n",
       "      <td>1.599</td>\n",
       "      <td>-0.742</td>\n",
       "      <td>-0.027</td>\n",
       "      <td>-0.169</td>\n",
       "      <td>-0.225</td>\n",
       "      <td>0.031</td>\n",
       "      <td>0.0</td>\n",
       "      <td>0.405991</td>\n",
       "    </tr>\n",
       "    <tr>\n",
       "      <th>15645</th>\n",
       "      <td>22</td>\n",
       "      <td>90000</td>\n",
       "      <td>RENT</td>\n",
       "      <td>5.0</td>\n",
       "      <td>MEDICAL</td>\n",
       "      <td>B</td>\n",
       "      <td>15000</td>\n",
       "      <td>11.49</td>\n",
       "      <td>0.17</td>\n",
       "      <td>N</td>\n",
       "      <td>...</td>\n",
       "      <td>0</td>\n",
       "      <td>0.073</td>\n",
       "      <td>0.026</td>\n",
       "      <td>-0.279</td>\n",
       "      <td>-1.040</td>\n",
       "      <td>0.069</td>\n",
       "      <td>-0.225</td>\n",
       "      <td>0.031</td>\n",
       "      <td>0.0</td>\n",
       "      <td>0.127577</td>\n",
       "    </tr>\n",
       "    <tr>\n",
       "      <th>7626</th>\n",
       "      <td>24</td>\n",
       "      <td>93500</td>\n",
       "      <td>RENT</td>\n",
       "      <td>2.0</td>\n",
       "      <td>VENTURE</td>\n",
       "      <td>C</td>\n",
       "      <td>6400</td>\n",
       "      <td>13.23</td>\n",
       "      <td>0.07</td>\n",
       "      <td>Y</td>\n",
       "      <td>...</td>\n",
       "      <td>1</td>\n",
       "      <td>0.073</td>\n",
       "      <td>0.026</td>\n",
       "      <td>-0.742</td>\n",
       "      <td>-1.040</td>\n",
       "      <td>-0.169</td>\n",
       "      <td>0.160</td>\n",
       "      <td>0.066</td>\n",
       "      <td>0.0</td>\n",
       "      <td>0.161621</td>\n",
       "    </tr>\n",
       "    <tr>\n",
       "      <th>20390</th>\n",
       "      <td>27</td>\n",
       "      <td>49200</td>\n",
       "      <td>RENT</td>\n",
       "      <td>4.0</td>\n",
       "      <td>DEBTCONSOLIDATION</td>\n",
       "      <td>C</td>\n",
       "      <td>4800</td>\n",
       "      <td>14.65</td>\n",
       "      <td>0.10</td>\n",
       "      <td>N</td>\n",
       "      <td>...</td>\n",
       "      <td>0</td>\n",
       "      <td>-0.057</td>\n",
       "      <td>0.026</td>\n",
       "      <td>-0.742</td>\n",
       "      <td>-0.027</td>\n",
       "      <td>-0.169</td>\n",
       "      <td>0.160</td>\n",
       "      <td>-0.071</td>\n",
       "      <td>NaN</td>\n",
       "      <td>0.135246</td>\n",
       "    </tr>\n",
       "    <tr>\n",
       "      <th>7969</th>\n",
       "      <td>23</td>\n",
       "      <td>49000</td>\n",
       "      <td>MORTGAGE</td>\n",
       "      <td>7.0</td>\n",
       "      <td>MEDICAL</td>\n",
       "      <td>D</td>\n",
       "      <td>5000</td>\n",
       "      <td>15.21</td>\n",
       "      <td>0.10</td>\n",
       "      <td>N</td>\n",
       "      <td>...</td>\n",
       "      <td>0</td>\n",
       "      <td>0.073</td>\n",
       "      <td>1.599</td>\n",
       "      <td>-0.742</td>\n",
       "      <td>-0.027</td>\n",
       "      <td>-0.169</td>\n",
       "      <td>-0.225</td>\n",
       "      <td>0.066</td>\n",
       "      <td>1.0</td>\n",
       "      <td>0.501336</td>\n",
       "    </tr>\n",
       "  </tbody>\n",
       "</table>\n",
       "<p>5 rows × 35 columns</p>\n",
       "</div>"
      ],
      "text/plain": [
       "       person_age  person_income person_home_ownership  person_emp_length  \\\n",
       "7126           25          51684              MORTGAGE                9.0   \n",
       "15645          22          90000                  RENT                5.0   \n",
       "7626           24          93500                  RENT                2.0   \n",
       "20390          27          49200                  RENT                4.0   \n",
       "7969           23          49000              MORTGAGE                7.0   \n",
       "\n",
       "             loan_intent loan_grade  loan_amnt  loan_int_rate  \\\n",
       "7126            PERSONAL          D       4000          15.99   \n",
       "15645            MEDICAL          B      15000          11.49   \n",
       "7626             VENTURE          C       6400          13.23   \n",
       "20390  DEBTCONSOLIDATION          C       4800          14.65   \n",
       "7969             MEDICAL          D       5000          15.21   \n",
       "\n",
       "       loan_percent_income cb_person_default_on_file  ...  \\\n",
       "7126                  0.08                         N  ...   \n",
       "15645                 0.17                         N  ...   \n",
       "7626                  0.07                         Y  ...   \n",
       "20390                 0.10                         N  ...   \n",
       "7969                  0.10                         N  ...   \n",
       "\n",
       "       cb_person_default_on_file_Y  person_age_WOE  loan_int_rate_WOE  \\\n",
       "7126                             0           0.073              1.599   \n",
       "15645                            0           0.073              0.026   \n",
       "7626                             1           0.073              0.026   \n",
       "20390                            0          -0.057              0.026   \n",
       "7969                             0           0.073              1.599   \n",
       "\n",
       "       loan_percent_income_WOE  person_income_WOE  loan_amnt_WOE  \\\n",
       "7126                    -0.742             -0.027         -0.169   \n",
       "15645                   -0.279             -1.040          0.069   \n",
       "7626                    -0.742             -1.040         -0.169   \n",
       "20390                   -0.742             -0.027         -0.169   \n",
       "7969                    -0.742             -0.027         -0.169   \n",
       "\n",
       "       person_emp_length_WOE  cb_person_cred_hist_length_WOE  Risk  \\\n",
       "7126                  -0.225                           0.031   0.0   \n",
       "15645                 -0.225                           0.031   0.0   \n",
       "7626                   0.160                           0.066   0.0   \n",
       "20390                  0.160                          -0.071   NaN   \n",
       "7969                  -0.225                           0.066   1.0   \n",
       "\n",
       "       score_proba  \n",
       "7126      0.405991  \n",
       "15645     0.127577  \n",
       "7626      0.161621  \n",
       "20390     0.135246  \n",
       "7969      0.501336  \n",
       "\n",
       "[5 rows x 35 columns]"
      ]
     },
     "execution_count": 196,
     "metadata": {},
     "output_type": "execute_result"
    }
   ],
   "source": [
    "X_train.head()"
   ]
  },
  {
   "cell_type": "code",
   "execution_count": 199,
   "id": "b8eda734",
   "metadata": {},
   "outputs": [],
   "source": [
    "cek = X_train.sample(1).to_dict(orient = 'records')"
   ]
  },
  {
   "cell_type": "code",
   "execution_count": 200,
   "id": "7820c49f",
   "metadata": {},
   "outputs": [
    {
     "data": {
      "text/plain": [
       "[{'person_age': 28,\n",
       "  'person_income': 30000,\n",
       "  'person_home_ownership': 'RENT',\n",
       "  'person_emp_length': 0.0,\n",
       "  'loan_intent': 'MEDICAL',\n",
       "  'loan_grade': 'D',\n",
       "  'loan_amnt': 11500,\n",
       "  'loan_int_rate': 14.46,\n",
       "  'loan_percent_income': 0.38,\n",
       "  'cb_person_default_on_file': 'Y',\n",
       "  'cb_person_cred_hist_length': 5,\n",
       "  'person_home_ownership_OTHER': 0,\n",
       "  'person_home_ownership_OWN': 0,\n",
       "  'person_home_ownership_RENT': 1,\n",
       "  'loan_intent_EDUCATION': 0,\n",
       "  'loan_intent_HOMEIMPROVEMENT': 0,\n",
       "  'loan_intent_MEDICAL': 1,\n",
       "  'loan_intent_PERSONAL': 0,\n",
       "  'loan_intent_VENTURE': 0,\n",
       "  'loan_grade_B': 0,\n",
       "  'loan_grade_C': 0,\n",
       "  'loan_grade_D': 1,\n",
       "  'loan_grade_E': 0,\n",
       "  'loan_grade_F': 0,\n",
       "  'loan_grade_G': 0,\n",
       "  'cb_person_default_on_file_Y': 1,\n",
       "  'person_age_WOE': -0.057,\n",
       "  'loan_int_rate_WOE': 0.026,\n",
       "  'loan_percent_income_WOE': 2.136,\n",
       "  'person_income_WOE': 0.837,\n",
       "  'loan_amnt_WOE': 0.069,\n",
       "  'person_emp_length_WOE': 0.16,\n",
       "  'cb_person_cred_hist_length_WOE': -0.071,\n",
       "  'Risk': 0.0,\n",
       "  'score_proba': 0.7462351777564744}]"
      ]
     },
     "execution_count": 200,
     "metadata": {},
     "output_type": "execute_result"
    }
   ],
   "source": [
    "cek"
   ]
  },
  {
   "cell_type": "code",
   "execution_count": 102,
   "id": "308d344d",
   "metadata": {},
   "outputs": [
    {
     "name": "stdout",
     "output_type": "stream",
     "text": [
      "['person_home_ownership_OTHER', 'person_home_ownership_OWN', 'person_home_ownership_RENT', 'loan_intent_EDUCATION', 'loan_intent_HOMEIMPROVEMENT', 'loan_intent_MEDICAL', 'loan_intent_PERSONAL', 'loan_intent_VENTURE', 'loan_grade_B', 'loan_grade_C', 'loan_grade_D', 'loan_grade_E', 'loan_grade_F', 'loan_grade_G', 'cb_person_default_on_file_Y', 'person_age_WOE', 'loan_int_rate_WOE', 'loan_percent_income_WOE', 'person_income_WOE', 'loan_amnt_WOE', 'person_emp_length_WOE', 'cb_person_cred_hist_length_WOE']\n"
     ]
    }
   ],
   "source": [
    "print(all_features)"
   ]
  }
 ],
 "metadata": {
  "kernelspec": {
   "display_name": "Python 3",
   "language": "python",
   "name": "python3"
  },
  "language_info": {
   "codemirror_mode": {
    "name": "ipython",
    "version": 3
   },
   "file_extension": ".py",
   "mimetype": "text/x-python",
   "name": "python",
   "nbconvert_exporter": "python",
   "pygments_lexer": "ipython3",
   "version": "3.8.8"
  }
 },
 "nbformat": 4,
 "nbformat_minor": 5
}
